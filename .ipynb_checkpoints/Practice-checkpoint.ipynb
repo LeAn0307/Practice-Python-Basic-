{
 "cells": [
  {
   "cell_type": "markdown",
   "id": "730872fa-29e9-40f1-b179-6a6373cc7751",
   "metadata": {},
   "source": [
    "# Bài tập python"
   ]
  },
  {
   "cell_type": "markdown",
   "id": "310ad88c-4a3b-4bc6-be78-76e6dc686a50",
   "metadata": {},
   "source": [
    "## Bài 1.\n",
    "Cho một số nguyên, in \"YES\" nếu chữ số cuối của nó là 7 và in \"NO\" nếu không.\n",
    "Ví dụ:\n",
    "127 → YES\n",
    "333 → NO"
   ]
  },
  {
   "cell_type": "code",
   "execution_count": null,
   "id": "17892ade-76f8-4003-9cf0-709bfc48f66c",
   "metadata": {
    "scrolled": true
   },
   "outputs": [],
   "source": [
    "num_a = int(input(\"Nhập số nguyên\"))\n",
    "print(num_a);\n",
    "if (num_a %10 ==7): \n",
    "    print(\"YES\")\n",
    "else:\n",
    "     print(\"NO\")"
   ]
  },
  {
   "cell_type": "markdown",
   "id": "12ab5b76-ddb4-4cdd-a1b9-f4f8effc90bb",
   "metadata": {},
   "source": [
    "## Bài 2.\n",
    "Cho biết tọa độ của ba điểm A, B, C trên một đoạn thẳng. In khoảng cách từ điểm\n",
    "A đến điểm gần nó nhất.\n",
    "Ví dụ:\n",
    "10\n",
    "35 \n",
    "30\n",
    "Kết quả: 20"
   ]
  },
  {
   "cell_type": "code",
   "execution_count": 5,
   "id": "ae13682e-853a-4f2f-8ddf-9a9358a721c1",
   "metadata": {
    "scrolled": true
   },
   "outputs": [
    {
     "name": "stdin",
     "output_type": "stream",
     "text": [
      "Nhap a: 10\n",
      "Nhap b: 30\n",
      "Nhap c: 20\n"
     ]
    },
    {
     "name": "stdout",
     "output_type": "stream",
     "text": [
      "min distance C 10\n"
     ]
    }
   ],
   "source": [
    "point_a = int(input(\"Nhap a:\"))\n",
    "point_b = int(input(\"Nhap b:\"))\n",
    "point_c = int(input(\"Nhap c:\"))\n",
    "\n",
    "distance = (point_c - point_a) - (point_b - point_a)\n",
    "\n",
    "if (distance < 0):\n",
    "    print(\"min distance C\", -distance)\n",
    "elif (distance > 0):\n",
    "    print(\"min distance B\", distance)\n",
    "else:\n",
    "    print(\"min distance A = C\", distance)"
   ]
  },
  {
   "cell_type": "markdown",
   "id": "fde345cc-4f25-43be-8a1d-a30db1f7a150",
   "metadata": {},
   "source": [
    "## Bài 3.\n",
    "Viết chương trình tính tổng các số trong một danh sách\n",
    "Ví dụ:\n",
    "Input: [2, 5, 8, 10, 12]\n",
    "Output: Sum = 37"
   ]
  },
  {
   "cell_type": "code",
   "execution_count": null,
   "id": "06380df3-49b6-4c22-91d7-295c66758e01",
   "metadata": {},
   "outputs": [],
   "source": []
  },
  {
   "cell_type": "markdown",
   "id": "2dc72e34-21a5-4c9c-a37a-e6217c661581",
   "metadata": {},
   "source": [
    "## Bài 4. \n",
    "Viết game đoán số may mắn (guess the number)  \n",
    "Máy tính nghĩ một số random từ 1 cho đến 15 và hỏi bạn đoán. Máy tính sẽ nói \n",
    "cho bạn khi bạn đoán sai là số may mắn là phải lớn hơn hoặc nhỏ hơn. Bạn sẽ \n",
    "chiến thắng nếu bạn đoán đúng số đó trong 5 lượt chơi. <br>\n",
    "Gợi ý: <br>\n",
    ">\n",
    "import random <br>\n",
    "'# random number from 1 to 15 <br>\n",
    "random_number = random.randint(1, 15) <br>\n",
    "\n",
    "Máy tính sẽ tạo một số ngẫu nhiên từ 1 cho đến 15<br> \n",
    "Input/Output:  <br>\n",
    "Tôi đang nghĩ một số giữa 1 và 15. Bạn hãy đoán số may mắn đó giúp tôi. <br>\n",
    "Số may mắn đó là: 10 <br>\n",
    "Số bạn đoán phải nhỏ hơn 10 <br>\n",
    "Số may mắn đó là: 2 <br>\n",
    "Số bạn đoán phải lớn hơn: 2 <br>\n",
    "Số may mắn đó là: 4 <br>\n",
    "Chúc mừng bạn đã chiến thắng. Bạn đã đoán đúng sau 2 lượt chơi. <br>- Nếu sau 5 lượt chơi bạn không đoán được thì kết thúc chương trình và in ra  <br>\n",
    "Bạn đã không may mắn, đây là số 4 <br>"
   ]
  },
  {
   "cell_type": "code",
   "execution_count": null,
   "id": "8776d465-bab0-40ac-a2de-ede76fc11afd",
   "metadata": {},
   "outputs": [],
   "source": []
  },
  {
   "cell_type": "markdown",
   "id": "548dd375-1c60-4ea7-88a0-6d6027cd9018",
   "metadata": {},
   "source": [
    "Bài 5.\n",
    "Page 2\n",
    "Thầy Thịnh – 0395 971 275\n",
    "Học viện công nghệ TICA: www.tica.edu.vn\n",
    "Một cửa hàng sẽ giảm giá 10% nếu tổng chi phí mua hàng lớn hơn 10.000\n",
    "Người dùng về số lượng từ bàn phím\n",
    "Giả sử, một đơn vị mặt hàng sẽ có giá 100 đồng.\n",
    "In tổng chi phí hóa đơn cho người dùng.\n",
    "Ví dụ:\n",
    "Input: 120\n",
    "Output: 10800\n",
    "Input: 20\n",
    "Output: 2000"
   ]
  },
  {
   "cell_type": "code",
   "execution_count": null,
   "id": "2a942b4e-b171-448c-b1d4-2b5a88de36d5",
   "metadata": {},
   "outputs": [],
   "source": []
  },
  {
   "cell_type": "markdown",
   "id": "eafb7cc4-a550-4b7c-b982-ea299118df49",
   "metadata": {},
   "source": [
    "Bài 6.\n",
    "Viết chương trình in ra tất cả các số chẵn trong một danh sách\n",
    "Ví dụ:\n",
    "Input: [2, 5, 8, 10, 12]\n",
    "Output: 2, 8, 10, 12"
   ]
  },
  {
   "cell_type": "code",
   "execution_count": null,
   "id": "9d70f043-48b5-45d4-9e95-7283c1ceff9c",
   "metadata": {},
   "outputs": [],
   "source": []
  },
  {
   "cell_type": "markdown",
   "id": "214bc083-8b1f-4c16-988d-fcfad81f0033",
   "metadata": {},
   "source": [
    "Bài 7.\n",
    "Viết một chương trình tìm ra số lớn nhất của một danh sách mà không sử dụng\n",
    "hàm max()\n",
    "Ví dụ:\n",
    "Input: [2, 5, 8, 10, 12]\n",
    "Output: 12"
   ]
  },
  {
   "cell_type": "code",
   "execution_count": null,
   "id": "47bc2bbe-b320-4353-bc57-65137110355e",
   "metadata": {},
   "outputs": [],
   "source": []
  },
  {
   "cell_type": "markdown",
   "id": "2e54781d-8b21-4046-b66f-0d3b2bde2cab",
   "metadata": {},
   "source": [
    "Bài 8.\n",
    "Cho một danh sách các số, hãy tìm và in tất cả các phần tử lớn hơn phần tử trước\n",
    "đó.\n",
    "Ví dụ1:\n",
    "Input:\n",
    "1 5 2 4 3\n",
    "Output:\n",
    "5 4\n",
    "\n",
    "Ví dụ 2:\n",
    "Input:\n",
    "5 5 5 5 5\n",
    "Output:\n",
    "5 5 5 5"
   ]
  },
  {
   "cell_type": "code",
   "execution_count": null,
   "id": "30401e5c-6b76-4abe-a6e8-62191143722f",
   "metadata": {},
   "outputs": [],
   "source": []
  },
  {
   "cell_type": "markdown",
   "id": "a7d6e0bd-a7f8-4d20-a262-e9ed69535e8a",
   "metadata": {},
   "source": [
    "Bài 9.\n",
    "Viết một chương trình xóa tất cả phần tử lặp lại (trùng lặp) ra khỏi danh sách.\n",
    "Ví dụ:\n",
    "Input: [1, 3, 5, 6, 3, 5, 6, 1]\n",
    "Output: [1, 3, 5, 6]"
   ]
  },
  {
   "cell_type": "code",
   "execution_count": null,
   "id": "9bb552e0-0792-4d42-b1e1-25d401a6fcc1",
   "metadata": {},
   "outputs": [],
   "source": []
  },
  {
   "cell_type": "markdown",
   "id": "53af2398-1e09-4d15-8f3f-0d56e9a78abe",
   "metadata": {},
   "source": [
    "Bài 10.\n",
    "Get first, second best scores from the list.\n",
    "List may contain duplicates.\n",
    "Input: [86,86,85,85,85,83,23,45,84,1,2,0]\n",
    "Output: should get 86, 85\n"
   ]
  },
  {
   "cell_type": "code",
   "execution_count": null,
   "id": "d2a7c549-a0b3-4558-a172-f7c83eba5a17",
   "metadata": {},
   "outputs": [],
   "source": []
  },
  {
   "cell_type": "markdown",
   "id": "17a1bd46-002a-4f41-a72c-49cee815fcde",
   "metadata": {},
   "source": [
    "Bài 11.\n",
    "Given an array length 1 or more of ints, return the difference between the largest\n",
    "and smallest values in the array. Note: the built-in min(v1, v2) and max(v1, v2)\n",
    "functions return the smaller or larger of two values.\n",
    "big_diff([10, 3, 5, 6]) → 7\n",
    "big_diff([7, 2, 10, 9]) → 8\n",
    "big_diff([2, 10, 7, 2]) → 8\n"
   ]
  },
  {
   "cell_type": "code",
   "execution_count": null,
   "id": "d9b448ab-a04a-463f-90b4-5f2481945480",
   "metadata": {},
   "outputs": [],
   "source": []
  },
  {
   "cell_type": "code",
   "execution_count": null,
   "id": "4008c1b8-e743-49cd-8daa-2454b1dd907c",
   "metadata": {},
   "outputs": [],
   "source": [
    "Bài 12.\n",
    "Viết một chương trình in ra các số chia hết cho 7 nhưng không chia hết cho 5\n",
    "nằm trong khoảng 100 cho đến 1000 (tính cả 100 và 1000).\n",
    "Kết quả: In trên một dòng và cách nhau bởi dấu phẩy."
   ]
  },
  {
   "cell_type": "code",
   "execution_count": null,
   "id": "880e424b-4cef-4a40-a0e4-fd984b404036",
   "metadata": {},
   "outputs": [],
   "source": []
  },
  {
   "cell_type": "code",
   "execution_count": null,
   "id": "bd5b0078-b4fe-4f7b-922c-2373f0d8ab3e",
   "metadata": {},
   "outputs": [],
   "source": [
    "Bài 13.\n",
    "Viết một chương trình in tất cả các số nguyên tố nhỏ hơn n. Với n là số nguyên\n",
    "dương nhập từ bàn phím.\n",
    "Ví dụ:\n",
    "n = 12\n",
    "Kết quả:\n",
    "2 3 5 7 11"
   ]
  },
  {
   "cell_type": "code",
   "execution_count": null,
   "id": "93c1a4de-60a8-4e57-9ecc-96ebf8b1cc00",
   "metadata": {},
   "outputs": [],
   "source": []
  },
  {
   "cell_type": "code",
   "execution_count": null,
   "id": "2ab6c1ee-cda5-4902-97c6-148d9361b4a6",
   "metadata": {},
   "outputs": [],
   "source": [
    "Bài 14.\n",
    "Cho một danh sách số nguyên: [5, 10, 15, 20, 25, 46]\n",
    "Tìm giá trị lớn nhất và nhỏ nhất của danh sách.\n",
    "Gợi ý:\n",
    "Không được sử dụng hàm max() và min()"
   ]
  },
  {
   "cell_type": "code",
   "execution_count": null,
   "id": "1278462a-cd66-4f0f-8f44-d12b8c0cfdf8",
   "metadata": {},
   "outputs": [],
   "source": []
  },
  {
   "cell_type": "code",
   "execution_count": null,
   "id": "0f9b68ea-9348-4558-9892-d8c44ea74d5a",
   "metadata": {},
   "outputs": [],
   "source": [
    "\n",
    "Bài 15.\n",
    "Viết chương trình nhập vào bán kính đường tròn, tính toán và in ra chu vi và diện\n",
    "tích hình tròn"
   ]
  },
  {
   "cell_type": "code",
   "execution_count": null,
   "id": "133cd80e-9e84-413d-8bf5-122c77c7cc79",
   "metadata": {},
   "outputs": [],
   "source": []
  },
  {
   "cell_type": "code",
   "execution_count": null,
   "id": "0962f6fd-eba7-4ac8-966a-76949c555d36",
   "metadata": {},
   "outputs": [],
   "source": [
    "Bài 16.\n",
    "Ask the user to enter a new password. Ask them to enter it again. If the two\n",
    "passwords match, display “Thank you”. If the letters are correct but in the wrong\n",
    "case, display the message “They must be in the same case”, otherwise display the\n",
    "message “Incorrect”"
   ]
  },
  {
   "cell_type": "code",
   "execution_count": null,
   "id": "32b68045-41f3-4cc1-9276-86eff9cc84d0",
   "metadata": {},
   "outputs": [],
   "source": []
  },
  {
   "cell_type": "code",
   "execution_count": 13,
   "id": "9826da43-032d-4458-9d34-0ed0af1e1964",
   "metadata": {},
   "outputs": [
    {
     "ename": "SyntaxError",
     "evalue": "invalid syntax (1096815275.py, line 1)",
     "output_type": "error",
     "traceback": [
      "\u001b[1;36m  Cell \u001b[1;32mIn[13], line 1\u001b[1;36m\u001b[0m\n\u001b[1;33m    Bài 17.\u001b[0m\n\u001b[1;37m        ^\u001b[0m\n\u001b[1;31mSyntaxError\u001b[0m\u001b[1;31m:\u001b[0m invalid syntax\n"
     ]
    }
   ],
   "source": [
    "Bài 17.\n",
    "Viết một chương trình nhập số nguyên dương n và tính tổng của các chữ số của số n.\n",
    "Ví dụ: Nếu người dùng nhập 3141 thì chương trình của bạn nên hiển thị 3 + 1 + 4 + 1 = 9\n"
   ]
  },
  {
   "cell_type": "code",
   "execution_count": null,
   "id": "f852250b-dbdc-40c3-a367-54fd708a71ec",
   "metadata": {},
   "outputs": [],
   "source": []
  },
  {
   "cell_type": "code",
   "execution_count": null,
   "id": "9f5a990c-1c60-40fb-9357-8341400d279a",
   "metadata": {},
   "outputs": [],
   "source": [
    "Bài 18.\n",
    "Ứng dụng chuyển đổi nhiệt độ từ độ C sang F, chuyển đổi từ kg sang pao(lb),\n",
    "diện tích, thể tích, tốc độ, thời gian (Easy)\n",
    "https://www.metric-conversions.org/vi/trong-luong/kilogam-sang-pao.htm\n",
    "Ý tưởng:\n",
    "Xây dựng một chương trình gồm nhiều chức năng trên, người dùng chọn:\n",
    "chức năng 1: Chuyển đổi độ C sang độ F\n",
    "chức năng 2: Chuyển đổi độ F sang độ C\n",
    "chức năng 3: Chuyển đổi từ kg sang pao(lb)\n",
    "chức năng 4: Chuyển đổi từ pao(lb) sang kg\n",
    "chức năng 5: Chuyển đổi từ mét sang feet\n",
    "chức năng 6: Chuyển đổi từ feet sang meet\n",
    "chức năng 7: Thoát chương trình"
   ]
  },
  {
   "cell_type": "code",
   "execution_count": null,
   "id": "7700b8f7-c3cc-4624-8cbc-127b4e8d7286",
   "metadata": {},
   "outputs": [],
   "source": [
    "Bài 19.\n",
    "Làm trò chơi búa, đá, giấy chơi với máy tính\n",
    "Ý tưởng:\n",
    "https://youtu.be/eXQNi8hA_yM\n",
    "Gợi ý:\n",
    "Cách 1: Nhập số từ bàn phím\n",
    "import random\n",
    "choice = int(input(\"User turn: \"))\n",
    "random_choice = random.randint(1, 3)\n",
    "Cách 2: Nhập chữ từ bàn phím\n",
    "import random\n",
    "options = [\"Rock\",\"Paper\",\"Scissors\"]\n",
    "AI = random.choice(options)\n",
    "Người chơi có 5 lượt chơi với máy tính, sau 5 lượt chơi thì thống kê người chơi\n",
    "đã thắng, hòa, thua bao nhiêu lượt với máy tính."
   ]
  },
  {
   "cell_type": "code",
   "execution_count": null,
   "id": "0cd6b852-c8eb-48ff-9a1f-756a02adbd14",
   "metadata": {},
   "outputs": [],
   "source": []
  },
  {
   "cell_type": "code",
   "execution_count": null,
   "id": "11b857ab-3cca-4d1f-bb0d-fc37ba8f14cc",
   "metadata": {},
   "outputs": [],
   "source": [
    "Bài 20.\n",
    "Làm trò chơi đoán câu đố động vật (tên thủ đô các nước)\n",
    "Ý tưởng:\n",
    "https://www.sciencekids.co.nz/quizzes/animal.html\n",
    "Chương trình hiển thị danh sách câu hỏi có sẵn, người dùng nhập câu trả lời.\n",
    "Chương trình kiểm tra câu trả lời là đúng hay sai và đưa ra thông báo.\n",
    "Người chơi có thể đoán sai tối đa 3 lần, nếu quá thì kết thúc trò chơi."
   ]
  },
  {
   "cell_type": "code",
   "execution_count": null,
   "id": "fad602de-5820-42ee-ae04-fc7b446a0275",
   "metadata": {},
   "outputs": [],
   "source": []
  },
  {
   "cell_type": "code",
   "execution_count": null,
   "id": "76bc2db1-3e7b-4801-a154-6147088dcc65",
   "metadata": {},
   "outputs": [],
   "source": [
    "Bài 21.\n",
    "Làm game chọn nhóm. Có một danh sách gồm 8 người chơi, hãy lựa chọn ngẫu\n",
    "nhiên 4 người chơi không trùng nhau để cho vào nhóm A, còn lại cho vào nhóm\n",
    "B."
   ]
  },
  {
   "cell_type": "code",
   "execution_count": null,
   "id": "5eda7435-904d-43ed-ba2f-8bf0c8343a13",
   "metadata": {},
   "outputs": [],
   "source": []
  },
  {
   "cell_type": "code",
   "execution_count": null,
   "id": "f2487638-4b29-48bc-a9fd-266dce913d25",
   "metadata": {},
   "outputs": [],
   "source": [
    "Bài 22.\n",
    "Tìm vị trí của giá trị chẵn đầu tiên trong mảng 1 chiều các số nguyên. Nếu\n",
    "mảng không có giá trị chẵn thì sẽ trả về -1"
   ]
  },
  {
   "cell_type": "code",
   "execution_count": null,
   "id": "f58e8fd5-0b33-4fd9-95a9-49678a325744",
   "metadata": {},
   "outputs": [],
   "source": []
  },
  {
   "cell_type": "code",
   "execution_count": null,
   "id": "4abbd7cd-64f2-4e8c-9373-bec5aa378827",
   "metadata": {},
   "outputs": [],
   "source": [
    "Bài 23.\n",
    "Given the year number. You need to check if this year is a leap year. If it is, print\n",
    "LEAP, otherwise print COMMON.\n",
    "The rules in Gregorian calendar are as follows:\n",
    "a year is a leap year if its number is exactly divisible by 4 and is not exactly\n",
    "divisible by 100\n",
    "a year is always a leap year if its number is exactly divisible by 400"
   ]
  },
  {
   "cell_type": "code",
   "execution_count": null,
   "id": "4ed1f4c1-bdc1-4878-af3b-e55240abed08",
   "metadata": {},
   "outputs": [],
   "source": []
  },
  {
   "cell_type": "code",
   "execution_count": null,
   "id": "aa886a2e-b91a-4cfd-8ca9-5b580706ea44",
   "metadata": {},
   "outputs": [],
   "source": [
    "Bài 24.\n",
    "Viết chương trình tính tổng S = 1 + 1/2 + 1/3 + …+ 1/n với n là số nguyên dương\n",
    "nhập từ bàn phím.\n"
   ]
  },
  {
   "cell_type": "code",
   "execution_count": null,
   "id": "1b3b6129-727d-42b9-ad47-6f1b3eb28e4e",
   "metadata": {},
   "outputs": [],
   "source": []
  },
  {
   "cell_type": "code",
   "execution_count": null,
   "id": "fb88167c-91ad-475d-bcb6-b94b7891658b",
   "metadata": {},
   "outputs": [],
   "source": [
    "Bài 25.\n",
    "Liệt kê tất cả các ước số của số nguyên dương n.\n"
   ]
  },
  {
   "cell_type": "code",
   "execution_count": null,
   "id": "d54e98dd-4305-4539-97e0-c77350227d56",
   "metadata": {},
   "outputs": [],
   "source": []
  },
  {
   "cell_type": "code",
   "execution_count": null,
   "id": "78a4a1dc-e1f2-4e3a-b70e-36720d6b5dde",
   "metadata": {},
   "outputs": [],
   "source": [
    "Bài 26.\n",
    "Phân tích một số thành tích các thừa số nguyên tố\n",
    "Input: n = 120\n",
    "Output: 2 2 2 3 5"
   ]
  },
  {
   "cell_type": "code",
   "execution_count": null,
   "id": "7b405035-e74c-4db2-ae1e-a607aff02b0c",
   "metadata": {},
   "outputs": [],
   "source": []
  },
  {
   "cell_type": "code",
   "execution_count": null,
   "id": "59c8e569-0249-41eb-b815-abcb48cb9421",
   "metadata": {},
   "outputs": [],
   "source": [
    "Bài 27.\n",
    "Given a non-empty string and an int n, return a new string where the char at index\n",
    "n has been removed. The value of n will be a valid index of a char in the original\n",
    "string (i.e. n will be in the range 0..len(str)-1 inclusive).\n",
    "missing_char('kitten', 1) → 'ktten'\n",
    "missing_char('kitten', 0) → 'itten'\n",
    "missing_char('kitten', 4) → 'kittn’"
   ]
  },
  {
   "cell_type": "code",
   "execution_count": null,
   "id": "0b8198d5-db46-4f96-8919-0268410a0cb7",
   "metadata": {},
   "outputs": [],
   "source": []
  },
  {
   "cell_type": "code",
   "execution_count": null,
   "id": "ee7e90e3-4bc8-4256-995f-5bfea907dbc5",
   "metadata": {},
   "outputs": [],
   "source": [
    "Bài 28.\n",
    "Given a string, return a new string where the first and last chars have been\n",
    "exchanged.\n",
    "front_back('code') → 'eodc'\n",
    "front_back('a') → 'a'\n",
    "front_back('ab') → 'ba’\n"
   ]
  },
  {
   "cell_type": "code",
   "execution_count": null,
   "id": "2b11b04a-6254-47ed-9fff-4d3fb26f0993",
   "metadata": {},
   "outputs": [],
   "source": []
  },
  {
   "cell_type": "code",
   "execution_count": null,
   "id": "5088640a-edd1-4957-9cb9-ffeb8e9170f2",
   "metadata": {},
   "outputs": [],
   "source": [
    "Bài 29.\n",
    "You are driving a little too fast, and a police officer stops you. Write code to\n",
    "compute the result, encoded as an int value: 0=no ticket, 1=small ticket, 2=big\n",
    "ticket. If speed is 60 or less, the result is 0. If speed is between 61 and 80\n",
    "inclusive, the result is 1. If speed is 81 or more, the result is 2. Unless it is your\n",
    "birthday -- on that day, your speed can be 5 higher in all cases.\n",
    "caught_speeding(60, False) → 0\n",
    "caught_speeding(65, False) → 1\n",
    "caught_speeding(65, True) → 0\n"
   ]
  },
  {
   "cell_type": "code",
   "execution_count": null,
   "id": "5bc31f84-3882-48fb-acb7-aeb20d035f45",
   "metadata": {},
   "outputs": [],
   "source": []
  },
  {
   "cell_type": "code",
   "execution_count": null,
   "id": "2ae59ef0-6439-4d4b-bb8b-bdf14ae96b36",
   "metadata": {},
   "outputs": [],
   "source": [
    "Bài 30\n",
    "Given 3 int values, a b c, return their sum. However, if one of the values is 13\n",
    "then it does not count towards the sum and values to its right do not count. So\n",
    "for example, if b is 13, then both b and c do not count.\n",
    "lucky_sum(1, 2, 3) → 6\n",
    "lucky_sum(1, 2, 13) → 3\n",
    "lucky_sum(1, 13, 3) → 1\n"
   ]
  },
  {
   "cell_type": "code",
   "execution_count": null,
   "id": "10581c4e-6537-4a3d-b802-d3a9acd7cdd7",
   "metadata": {},
   "outputs": [],
   "source": []
  },
  {
   "cell_type": "code",
   "execution_count": null,
   "id": "8ebbd196-bc9a-4d1b-b0b9-160a8888e30c",
   "metadata": {},
   "outputs": [],
   "source": []
  },
  {
   "cell_type": "code",
   "execution_count": null,
   "id": "f3d0a38b-dcbe-42ed-bfb4-aaba00ea0b84",
   "metadata": {},
   "outputs": [],
   "source": []
  }
 ],
 "metadata": {
  "kernelspec": {
   "display_name": "Python 3 (ipykernel)",
   "language": "python",
   "name": "python3"
  },
  "language_info": {
   "codemirror_mode": {
    "name": "ipython",
    "version": 3
   },
   "file_extension": ".py",
   "mimetype": "text/x-python",
   "name": "python",
   "nbconvert_exporter": "python",
   "pygments_lexer": "ipython3",
   "version": "3.12.6"
  }
 },
 "nbformat": 4,
 "nbformat_minor": 5
}
