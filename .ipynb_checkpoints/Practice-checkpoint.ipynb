{
 "cells": [
  {
   "cell_type": "markdown",
   "id": "730872fa-29e9-40f1-b179-6a6373cc7751",
   "metadata": {},
   "source": [
    "# Bài tập python"
   ]
  },
  {
   "cell_type": "markdown",
   "id": "8dde2c9f-b7a9-4ac6-84f9-206e891dc249",
   "metadata": {},
   "source": [
    "## I.Bài tập Dictionary "
   ]
  },
  {
   "cell_type": "markdown",
   "id": "f1d91cf4-bcbe-435b-b24a-91de29d0c9e4",
   "metadata": {},
   "source": [
    "1.Đếm số lần xuất hiện của các từ trong một câu: \n",
    " Tạo một dictionary, với key là từ và value là số lần xuất hiện. \n",
    " Duyệt qua từng từ trong câu và cập nhật dictionary."
   ]
  },
  {
   "cell_type": "code",
   "execution_count": null,
   "id": "1504685c-9731-4148-a5cd-11f8a11181d4",
   "metadata": {
    "scrolled": true
   },
   "outputs": [],
   "source": [
    "\n",
    "p = \"hello , hello python , hello . python is great world\"\n",
    "\n",
    "clean  = p.replace(\",\", \"\").replace(\".\", \"\")\n",
    "\n",
    "def count_word(clean):\n",
    "    list_p = clean.lower().split()\n",
    "    count = {}\n",
    "    \n",
    "    for i in list_p:\n",
    "        if i in count and i.isalnum() == True: \n",
    "            count[i] +=1 \n",
    "        else:\n",
    "            count[i] = 1\n",
    "    return count\n",
    "\n",
    "print(count_word(clean))"
   ]
  },
  {
   "cell_type": "markdown",
   "id": "01ca33a7-4b5f-4797-b0a5-f3b57e8c166c",
   "metadata": {},
   "source": [
    " 2.Tạo một danh bạ điện thoại:\n",
    " Mỗi người là một entry trong dictionary, với key là tên và value là số điện thoại.\n",
    " Thực hiện các chức năng: thêm, xóa, tìm kiếm liên lạc."
   ]
  },
  {
   "cell_type": "code",
   "execution_count": null,
   "id": "40e7a51b-7246-4d26-8b89-1157242e47e9",
   "metadata": {},
   "outputs": [],
   "source": [
    "phonebook = {\n",
    "    \"Nguyễn Văn A\": \"0987654321\",\n",
    "    \"Trần Thị B\": \"0123456789\",\n",
    "    \"Lê Văn C\": \"0912345678\",\n",
    "    \"Phạm Thị D\": \"0345678912\",\n",
    "    \"Vũ Văn E\": \"0876543210\",\n",
    "    \"Hoàng Thị F\": \"0967891234\",\n",
    "    \"Đặng Văn G\": \"0789123456\",\n",
    "    \"Bùi Thị H\": \"0234567890\",\n",
    "    \"Ngô Văn I\": \"0901234567\",\n",
    "    \"Đỗ Thị K\": \"0678912345\"\n",
    "}\n",
    "\n",
    "def add_contact(name, phone):\n",
    "    phonebook[name] = phone\n",
    "    print(\"Added name: \", name)\n",
    "\n",
    "def delete_contact(name):\n",
    "    if name in phonebook:\n",
    "        del phonebook[name]\n",
    "        print(\"Đã xóa: \", name)\n",
    "    else: \n",
    "        print(\"Ko tìm thấy: \" , name)\n",
    "\n",
    "def search_contact(name):\n",
    "    if name in phonebook:\n",
    "        print(\"Phone: \" , phonebook[i])\n",
    "    else:\n",
    "        print (\"Name không tồn tại: \", name)\n",
    "\n",
    "\n",
    "while True:\n",
    "  print(\"1. Thêm liên lạc\")\n",
    "  print(\"2. Xóa liên lạc\")\n",
    "  print(\"3. Tìm kiếm liên lạc\")\n",
    "  print(\"4. Xuất \")\n",
    "  print(\"5. Thoát\")\n",
    "  \n",
    "  choice = input(\"\\n Chọn chức năng: \")\n",
    "\n",
    "  if choice == '1':\n",
    "    name = input(\"Nhập tên: \")\n",
    "    phone = input(\"Nhập số điện thoại: \")\n",
    "    add_contact(name, phone)\n",
    "  elif choice == '2':\n",
    "    name = input(\"Nhập tên cần xóa: \")\n",
    "    delete_contact(name)\n",
    "  elif choice == '3':\n",
    "    name = input(\"Nhập tên cần tìm: \")\n",
    "    search_contact(name)\n",
    "  elif choice == '4':\n",
    "    print (\"Phone book: \" , phonebook)\n",
    "  elif choice == '5':\n",
    "      break\n",
    "  else:\n",
    "    print(\"Lựa chọn không hợp lệ.\")\n",
    "\n"
   ]
  },
  {
   "cell_type": "markdown",
   "id": "02fca0e1-df7a-4631-afa3-0d5b15030beb",
   "metadata": {},
   "source": [
    " 3.Đảo ngược một dictionary:\n",
    " Tạo một dictionary mới, với key và value đổi chỗ cho nhau."
   ]
  },
  {
   "cell_type": "code",
   "execution_count": 3,
   "id": "2bfbd078-3fe3-4976-82be-268549d6b16f",
   "metadata": {},
   "outputs": [
    {
     "name": "stdout",
     "output_type": "stream",
     "text": [
      "{'1': 'Nguyễn Văn A', '2': 'Trần Thị B', '3': 'Lê Văn C', '4': 'Phạm Thị D', '5': 'Vũ Văn E', '6': 'Hoàng Thị F', '7': 'Đặng Văn G', '8': 'Bùi Thị H', '9': 'Ngô Văn I', '10': 'Đỗ Thị K'}\n"
     ]
    }
   ],
   "source": [
    "phonebook = {\n",
    "    \"Nguyễn Văn A\": \"1\",\n",
    "    \"Trần Thị B\": \"2\",\n",
    "    \"Lê Văn C\": \"3\",\n",
    "    \"Phạm Thị D\": \"4\",\n",
    "    \"Vũ Văn E\": \"5\",\n",
    "    \"Hoàng Thị F\": \"6\",\n",
    "    \"Đặng Văn G\": \"7\",\n",
    "    \"Bùi Thị H\": \"8\",\n",
    "    \"Ngô Văn I\": \"9\",\n",
    "    \"Đỗ Thị K\": \"10\"\n",
    "}\n",
    "\n",
    "reversed_dict = {value: key for key, value in phonebook.items()}\n",
    "\n",
    "print(reversed_dict)"
   ]
  },
  {
   "cell_type": "markdown",
   "id": "8c06d87d-54dc-4942-9c72-73f12fbfb9d2",
   "metadata": {},
   "source": [
    "4.Tìm giá trị lớn nhất/nhỏ nhất trong một dictionary:\n",
    "Xét cả trường hợp key là số và value là số."
   ]
  },
  {
   "cell_type": "code",
   "execution_count": 11,
   "id": "fc38b991-a115-46d2-bcad-c880ac286cbb",
   "metadata": {},
   "outputs": [
    {
     "name": "stdout",
     "output_type": "stream",
     "text": [
      "20\n"
     ]
    }
   ],
   "source": [
    "my_dict = {'a': 10, 'b': 3, 'c': 7, 'd': 20, 1: 2, 2: 7, 3: 9}\n",
    "\n",
    "print(max(my_dict.values()))\n",
    "print(min(my_dict.values()))\n"
   ]
  },
  {
   "cell_type": "markdown",
   "id": "4d2c5028-d7eb-401d-992b-41fcd1b85054",
   "metadata": {},
   "source": [
    " 5.Kiểm tra xem hai dictionary có giống nhau hay không:\n",
    " Cả về số lượng phần tử, khóa và giá trị."
   ]
  },
  {
   "cell_type": "code",
   "execution_count": 13,
   "id": "fa74bbec-21c2-4bfd-9807-3eb3662a1cd2",
   "metadata": {},
   "outputs": [
    {
     "name": "stdout",
     "output_type": "stream",
     "text": [
      "False\n",
      "True\n"
     ]
    }
   ],
   "source": [
    "dict1 = {'a': 10, 'b': 3, 'c': 7}\n",
    "dict2 = {'a': 10, 'b': 4, 'c': 7}\n",
    "dict3 = {'a': 10, 'c': 7, 'b': 3} \n",
    "\n",
    "print(dict1 == dict2)  # False\n",
    "print(dict1 == dict3)  # True (thứ tự khóa không quan trọng trong dict)"
   ]
  },
  {
   "cell_type": "markdown",
   "id": "89792ac3-c891-400c-9540-b277ae5ec694",
   "metadata": {},
   "source": [
    "6.Ghép hai dictionary:<br>\n",
    "Nếu có khóa trùng nhau, ưu tiên giá trị của dictionary sau.<br>"
   ]
  },
  {
   "cell_type": "code",
   "execution_count": 22,
   "id": "cb972e92-593e-4370-8625-28a7ebd34527",
   "metadata": {},
   "outputs": [
    {
     "name": "stdout",
     "output_type": "stream",
     "text": [
      "{'a': 10, 'b': 4, 'c': 7}\n"
     ]
    }
   ],
   "source": [
    "dict1 = {'a': 10, 'b': 3, 'c': 7}\n",
    "dict2 = {'a': 10, 'b': 4, 'c': 7}\n",
    "\n",
    "dict3 = dict1 | dict2\n",
    "print(dict3)"
   ]
  },
  {
   "cell_type": "markdown",
   "id": "c8e4ee0b-b82a-40e2-90e7-d9b6601dfea9",
   "metadata": {},
   "source": [
    "7.Tạo một dictionary chứa các số nguyên tố từ 1 đến n:\n",
    "Key là số nguyên tố, value là True.<br>"
   ]
  },
  {
   "cell_type": "code",
   "execution_count": 30,
   "id": "247d7889-2a62-40fb-a028-43cde5d2bade",
   "metadata": {},
   "outputs": [
    {
     "name": "stdin",
     "output_type": "stream",
     "text": [
      "Enter n:  53\n"
     ]
    },
    {
     "name": "stdout",
     "output_type": "stream",
     "text": [
      "{2: True, 3: True, 5: True, 7: True, 11: True, 13: True, 17: True, 19: True, 23: True, 29: True, 31: True, 37: True, 41: True, 43: True, 47: True, 53: True}\n"
     ]
    }
   ],
   "source": [
    "def prime_dictionary (n):\n",
    "    primes = [True]*(n-1)\n",
    "    num = 2\n",
    "\n",
    "    while num*num <=n:\n",
    "        if primes[num] == True:\n",
    "            #Đánh dấu bội của num => ko là số nguyên tố \n",
    "            for i in range (num*num , n+1 , num ):\n",
    "                primes[i] = false \n",
    "\n",
    "    prime_dict = {i: True for i in range(2, n+1) if primes [i]}\n",
    "    return prime_dict\n",
    "\n",
    "# call func\n",
    "n = int (input(\"Enter n: \" ))\n",
    "result = create_prime_dict(n)\n",
    "print(result)"
   ]
  },
  {
   "cell_type": "markdown",
   "id": "e4a9ef4d-3e98-4d55-8738-a308050ea75d",
   "metadata": {},
   "source": [
    "## II.Bài tập tổng hợp"
   ]
  },
  {
   "cell_type": "markdown",
   "id": "310ad88c-4a3b-4bc6-be78-76e6dc686a50",
   "metadata": {},
   "source": [
    "\n",
    "## Bài 1.\n",
    "Cho một số nguyên, in \"YES\" nếu chữ số cuối của nó là 7 và in \"NO\" nếu không.\n",
    "Ví dụ:\n",
    "127 → YES\n",
    "333 → NO"
   ]
  },
  {
   "cell_type": "code",
   "execution_count": null,
   "id": "17892ade-76f8-4003-9cf0-709bfc48f66c",
   "metadata": {
    "scrolled": true
   },
   "outputs": [],
   "source": [
    "num_a = int(input(\"Nhập số nguyên\"))\n",
    "print(num_a);\n",
    "if (num_a %10 ==7): \n",
    "    print(\"YES\")\n",
    "else:\n",
    "     print(\"NO\")"
   ]
  },
  {
   "cell_type": "markdown",
   "id": "12ab5b76-ddb4-4cdd-a1b9-f4f8effc90bb",
   "metadata": {},
   "source": [
    "## Bài 2.\n",
    "Cho biết tọa độ của ba điểm A, B, C trên một đoạn thẳng. In khoảng cách từ điểm\n",
    "A đến điểm gần nó nhất.\n",
    "Ví dụ:\n",
    "10\n",
    "35 \n",
    "30\n",
    "Kết quả: 20"
   ]
  },
  {
   "cell_type": "code",
   "execution_count": null,
   "id": "ae13682e-853a-4f2f-8ddf-9a9358a721c1",
   "metadata": {
    "scrolled": true
   },
   "outputs": [],
   "source": [
    "point_a = int(input(\"Input a:\"))\n",
    "point_b = int(input(\"Input b:\"))\n",
    "point_c = int(input(\"Input c:\"))\n",
    "\n",
    "distance = (point_c - point_a) - (point_b - point_a)\n",
    "\n",
    "if (distance < 0):\n",
    "    print(\"min distance C\", -distance)\n",
    "elif (distance > 0):\n",
    "    print(\"min distance B\", distance)\n",
    "else:\n",
    "    print(\"min distance A = C\", distance)"
   ]
  },
  {
   "cell_type": "markdown",
   "id": "fde345cc-4f25-43be-8a1d-a30db1f7a150",
   "metadata": {},
   "source": [
    "## Bài 3.\n",
    "Viết chương trình tính tổng các số trong một danh sách\n",
    "Ví dụ:\n",
    "Input: [2, 5, 8, 10, 12]\n",
    "Output: Sum = 37"
   ]
  },
  {
   "cell_type": "code",
   "execution_count": null,
   "id": "06380df3-49b6-4c22-91d7-295c66758e01",
   "metadata": {},
   "outputs": [],
   "source": [
    "\n",
    "my_list = list(map(int, input(\"Nhập các phần tử (cách nhau bởi dấu cách): \").split()))\n",
    "print(my_list)\n",
    "\n",
    "result = sum(my_list)\n",
    "print(\"sum = \" result)"
   ]
  },
  {
   "cell_type": "markdown",
   "id": "2dc72e34-21a5-4c9c-a37a-e6217c661581",
   "metadata": {},
   "source": [
    "## Bài 4. \n",
    "**Viết game đoán số may mắn (guess the number)  **\n",
    "Máy tính nghĩ một số random từ 1 cho đến 15 và hỏi bạn đoán. Máy tính sẽ nói \n",
    "cho bạn khi bạn đoán sai là số may mắn là phải lớn hơn hoặc nhỏ hơn. Bạn sẽ \n",
    "chiến thắng nếu bạn đoán đúng số đó trong 5 lượt chơi. <br>\n",
    "**Gợi ý:** <br>\n",
    "```python\n",
    "import random \n",
    "'# random number from 1 to 15 <br>\n",
    "random_number = random.randint(1, 15) \n",
    "```\n",
    "\n",
    "Máy tính sẽ tạo một số ngẫu nhiên từ 1 cho đến 15<br> \n",
    "**Input/Output:**  <br>\n",
    "Tôi đang nghĩ một số giữa 1 và 15. Bạn hãy đoán số may mắn đó giúp tôi. <br>\n",
    "Số may mắn đó là: 10 <br>\n",
    "Số bạn đoán phải nhỏ hơn 10 <br>\n",
    "Số may mắn đó là: 2 <br>\n",
    "Số bạn đoán phải lớn hơn: 2 <br>\n",
    "Số may mắn đó là: 4 <br>\n",
    "Chúc mừng bạn đã chiến thắng. Bạn đã đoán đúng sau 2 lượt chơi. <br>- Nếu sau 5 lượt chơi bạn không đoán được thì kết thúc chương trình và in ra  <br>\n",
    "Bạn đã không may mắn, đây là số 4 <br>"
   ]
  },
  {
   "cell_type": "code",
   "execution_count": null,
   "id": "e21ed93a-d7fe-4fbe-b3c8-622ccb471c7f",
   "metadata": {},
   "outputs": [],
   "source": [
    "import random \n",
    "\n",
    "# 5 lần chơi \n",
    "count = 5\n",
    "# random tu 1 - 15\n",
    "random_number = random.randint(1, 15)\n",
    "print(\"hidden\", random_number)\n",
    "\n",
    "for i in range(count):\n",
    "    # Nhập số đoán \n",
    "    guess = int(input(\"Nhập số đoán:\"))\n",
    "    # Đoán số == random\n",
    "    if guess == random_number:\n",
    "        # Xuất nhận xét thắng cuộc\n",
    "        print(f\"Bạn đã đúng sau {i+1} lượt chơi\")\n",
    "        break\n",
    "    elif guess < random_number:\n",
    "        print(\"Nhỏ hơn số thực tế\")\n",
    "    elif guess > random_number:\n",
    "        print(\"Lớn hơn số thực tế\")    \n",
    "\n",
    " if i == count-1: # Xuất nhận xét thua\n",
    "     print(\"Thua cuộc\")\n"
   ]
  },
  {
   "cell_type": "markdown",
   "id": "b0de904f-fee2-460e-8ea3-e16d1d29a81c",
   "metadata": {},
   "source": [
    "## Bài 5.\n",
    "Một cửa hàng sẽ giảm giá 10% nếu tổng chi phí mua hàng lớn hơn 10.000\n",
    "Người dùng về số lượng từ bàn phím\n",
    "Giả sử, một đơn vị mặt hàng sẽ có giá 100 đồng.\n",
    "In tổng chi phí hóa đơn cho người dùng.\n",
    "**Ví dụ:**\n",
    "Input: 120\n",
    "Output: 10800\n",
    "Input: 20\n",
    "Output: 2000"
   ]
  },
  {
   "cell_type": "code",
   "execution_count": 19,
   "id": "2a942b4e-b171-448c-b1d4-2b5a88de36d5",
   "metadata": {},
   "outputs": [
    {
     "name": "stdin",
     "output_type": "stream",
     "text": [
      "Nhập số sp:  1000\n"
     ]
    },
    {
     "name": "stdout",
     "output_type": "stream",
     "text": [
      "num: 1000\n",
      "sum: 100000\n",
      "Total payment:  9,000,000.00\n"
     ]
    }
   ],
   "source": [
    "num = int(input (\"Nhập số sp: \") )\n",
    "print(\"num:\", num)\n",
    "# sum = num*100\n",
    "sum = num*100\n",
    "print(\"sum:\", sum)\n",
    "#sum > 10.000  reduce 10% => sum*(90/100)\n",
    "if (sum > 10000 ):\n",
    "    sum = sum*0.9\n",
    "    print(\"Total payment: \", f\"{sum:,.2f}\")\n",
    "else:\n",
    "    print(\"Total payment: \", f\"{sum:,.2f}\")"
   ]
  },
  {
   "cell_type": "markdown",
   "id": "eafb7cc4-a550-4b7c-b982-ea299118df49",
   "metadata": {},
   "source": [
    "## Bài 6.\n",
    "Viết chương trình in ra tất cả các số chẵn trong một danh sách<br>\n",
    "**Ví dụ:** <br>\n",
    "Input: [2, 5, 8, 10, 12] <br>\n",
    "Output: 2, 8, 10, 12 <br>"
   ]
  },
  {
   "cell_type": "code",
   "execution_count": 2,
   "id": "9d70f043-48b5-45d4-9e95-7283c1ceff9c",
   "metadata": {},
   "outputs": [
    {
     "name": "stdin",
     "output_type": "stream",
     "text": [
      "Nhap arr 1 2 5 5 4 5 6 \n"
     ]
    },
    {
     "name": "stdout",
     "output_type": "stream",
     "text": [
      "[2, 4, 6]\n"
     ]
    }
   ],
   "source": [
    "arr = list(filter(lambda x: x%2 == 0,map(int,(input(\"Nhap arr\").split()))))\n",
    "print (arr)"
   ]
  },
  {
   "cell_type": "markdown",
   "id": "214bc083-8b1f-4c16-988d-fcfad81f0033",
   "metadata": {},
   "source": [
    "## Bài 7.\n",
    "Viết một chương trình tìm ra số lớn nhất của một danh sách mà không sử dụng\n",
    "hàm max() <br>\n",
    "Ví dụ:<br>\n",
    "Input: [2, 5, 8, 10, 12]<br>\n",
    "Output: 12<br>"
   ]
  },
  {
   "cell_type": "code",
   "execution_count": 25,
   "id": "47bc2bbe-b320-4353-bc57-65137110355e",
   "metadata": {},
   "outputs": [
    {
     "name": "stdin",
     "output_type": "stream",
     "text": [
      "Nhập mảng: 1 2 5 2 5 2 4 5 \n"
     ]
    },
    {
     "name": "stdout",
     "output_type": "stream",
     "text": [
      "[1, 2, 5, 2, 5, 2, 4, 5]\n",
      "Max is: 5\n"
     ]
    }
   ],
   "source": [
    "arr = list(map(int,input(\"Nhập mảng:\").split()));\n",
    "print(arr)\n",
    "temp_max= arr[0]\n",
    "\n",
    "for i in arr: \n",
    "    if temp_max <= i:\n",
    "        temp_max = i\n",
    "print(\"Max is:\", temp_max)"
   ]
  },
  {
   "cell_type": "markdown",
   "id": "2e54781d-8b21-4046-b66f-0d3b2bde2cab",
   "metadata": {},
   "source": [
    "## Bài 8.\n",
    "Cho một danh sách các số, hãy tìm và in tất cả các phần tử lớn hơn phần tử trước\n",
    "đó.<br>\n",
    "**Ví dụ1:**<br>\n",
    "Input: 1 5 2 4 3<br>\n",
    "Output: 5 4<br>\n",
    "\n",
    "**Ví dụ 2:**<br>\n",
    "Input: 5 5 5 5 5<br>\n",
    "Output: 5 5 5 5<br>"
   ]
  },
  {
   "cell_type": "code",
   "execution_count": 54,
   "id": "30401e5c-6b76-4abe-a6e8-62191143722f",
   "metadata": {
    "scrolled": true
   },
   "outputs": [
    {
     "name": "stdin",
     "output_type": "stream",
     "text": [
      "Nhap mang:  2 3 52 4 5 5 3\n"
     ]
    },
    {
     "name": "stdout",
     "output_type": "stream",
     "text": [
      "[2, 3, 52, 4, 5, 5, 3]\n",
      "3 52 5 5 "
     ]
    }
   ],
   "source": [
    "# Hàm tìm & in phần tử lớn hơn \n",
    "def find_larger_ele(arr_num):\n",
    "    large_ele = arr_num[0]\n",
    "    for i in arr_num[1:]: # bat dau tu phan tu thu 2\n",
    "        if i >= large_ele:            \n",
    "            print (i, end =\" \")\n",
    "        large_ele = i\n",
    "# Input \n",
    "arr_num = list(map(int, input (\"Nhap mang: \").split()))\n",
    "print(arr_num)\n",
    "find_larger_ele(arr_num);"
   ]
  },
  {
   "cell_type": "markdown",
   "id": "a7d6e0bd-a7f8-4d20-a262-e9ed69535e8a",
   "metadata": {},
   "source": [
    "## Bài 9.\n",
    "Viết một chương trình xóa tất cả phần tử lặp lại (trùng lặp) ra khỏi danh sách.<br>\n",
    "Ví dụ:<br>\n",
    "Input: [1, 3, 5, 6, 3, 5, 6, 1]<br>\n",
    "Output: [1, 3, 5, 6]<br>"
   ]
  },
  {
   "cell_type": "code",
   "execution_count": 34,
   "id": "9bb552e0-0792-4d42-b1e1-25d401a6fcc1",
   "metadata": {},
   "outputs": [
    {
     "name": "stdin",
     "output_type": "stream",
     "text": [
      "Nhap mang: 2 3 4 5 6 2 3 \n"
     ]
    },
    {
     "name": "stdout",
     "output_type": "stream",
     "text": [
      "[2, 3, 4, 5, 6]\n"
     ]
    }
   ],
   "source": [
    "arr = list (map(int , input(\"Nhap mang:\").split()))\n",
    "arr = list(dict.fromkeys(arr)) \n",
    "print(arr)"
   ]
  },
  {
   "cell_type": "markdown",
   "id": "53af2398-1e09-4d15-8f3f-0d56e9a78abe",
   "metadata": {},
   "source": [
    "## Bài 10.\n",
    "Get first, second best scores from the list.<br>\n",
    "List may contain duplicates.<br>\n",
    "Input: [86,86,85,85,85,83,23,45,84,1,2,0]<br>\n",
    "Output: should get 86, 85<br>\n"
   ]
  },
  {
   "cell_type": "code",
   "execution_count": 45,
   "id": "d2a7c549-a0b3-4558-a172-f7c83eba5a17",
   "metadata": {},
   "outputs": [
    {
     "name": "stdin",
     "output_type": "stream",
     "text": [
      "Nhap mang: 23 4 5 2 4 2 4 4 5 23 23 2 3\n"
     ]
    },
    {
     "name": "stdout",
     "output_type": "stream",
     "text": [
      "[4, 5, 2, 3]\n",
      "Top 1: 23\n",
      "Top 2: 5\n"
     ]
    }
   ],
   "source": [
    "arr = list (map(int , input(\"Nhap mang:\").split()))\n",
    "arr = list(dict.fromkeys(arr))\n",
    "max_val_1 = max(arr)\n",
    "tem_arr = arr.remove(max_val_1)\n",
    "max_val_2 = max(arr)\n",
    "print(arr)\n",
    "print(\"Top 1:\", max_val_1)\n",
    "print(\"Top 2:\",max_val_2)"
   ]
  },
  {
   "cell_type": "markdown",
   "id": "17a1bd46-002a-4f41-a72c-49cee815fcde",
   "metadata": {},
   "source": [
    "## Bài 11.\n",
    "Given an array length 1 or more of ints, return the difference between the largest\n",
    "and smallest values in the array. Note: the built-in min(v1, v2) and max(v1, v2)\n",
    "functions return the smaller or larger of two values.<br>\n",
    "big_diff([10, 3, 5, 6]) → 7<br>\n",
    "big_diff([7, 2, 10, 9]) → 8<br>\n",
    "big_diff([2, 10, 7, 2]) → 8<br>\n"
   ]
  },
  {
   "cell_type": "code",
   "execution_count": null,
   "id": "13c843d4-3c48-4a57-bda7-075c94f2d24c",
   "metadata": {},
   "outputs": [],
   "source": [
    "def big_diff(arr_num):\n",
    "    max_num = max(arr_num)\n",
    "    min_num = min (arr_num) \n",
    "    return max_num - min_num\n",
    "\n",
    "arr_num = list(map(int, input(\"Nhap mang:\").split()))\n",
    "\n",
    "diff = big_diff(arr_num)\n",
    "\n",
    "print (diff)"
   ]
  },
  {
   "cell_type": "markdown",
   "id": "d8304929-59b6-4870-ba8d-176abdb67c90",
   "metadata": {},
   "source": [
    "## Bài 12.\n",
    "Viết một chương trình in ra các số chia hết cho 7 nhưng không chia hết cho 5\n",
    "nằm trong khoảng 100 cho đến 1000 (tính cả 100 và 1000).<br>\n",
    "Kết quả: In trên một dòng và cách nhau bởi dấu phẩy."
   ]
  },
  {
   "cell_type": "code",
   "execution_count": 53,
   "id": "880e424b-4cef-4a40-a0e4-fd984b404036",
   "metadata": {},
   "outputs": [
    {
     "name": "stdin",
     "output_type": "stream",
     "text": [
      "Nhap mang: 1 777 112  133 500 847\n"
     ]
    },
    {
     "name": "stdout",
     "output_type": "stream",
     "text": [
      "[1, 777, 112, 133, 500, 847]\n",
      "[777, 112, 133, 847]\n"
     ]
    }
   ],
   "source": [
    "arr_num = list(map(int, input(\"Nhap mang:\").split()))\n",
    "print(arr_num)\n",
    "result = list(filter(lambda x: x%7 == 0 and  x%5 != 0 and x>= 100 and x<= 1000, arr_num))\n",
    "print (result)"
   ]
  },
  {
   "cell_type": "markdown",
   "id": "981f1459-d1c8-4188-a56f-a461c419a3d8",
   "metadata": {},
   "source": [
    "## Bài 13.\n",
    "Viết một chương trình in tất cả các số nguyên tố nhỏ hơn n. Với n là số nguyên\n",
    "dương nhập từ bàn phím.<br>\n",
    "Ví dụ:<br>\n",
    "n = 12<br>\n",
    "Kết quả:<br>\n",
    "2 3 5 7 11<br>"
   ]
  },
  {
   "cell_type": "code",
   "execution_count": 67,
   "id": "93c1a4de-60a8-4e57-9ecc-96ebf8b1cc00",
   "metadata": {},
   "outputs": [
    {
     "name": "stdin",
     "output_type": "stream",
     "text": [
      "Nhập n: 50\n"
     ]
    },
    {
     "name": "stdout",
     "output_type": "stream",
     "text": [
      "Prime list is:  [2, 3, 5, 7, 11, 13, 17, 19, 23, 29, 31, 37, 41, 43, 47]\n"
     ]
    }
   ],
   "source": [
    "import math\n",
    "\n",
    "# function\n",
    "# Prime: 2=>n\n",
    "def is_prime (num, n):\n",
    "    if num <2:\n",
    "        return False\n",
    "    elif num >= 2 and num < n:\n",
    "        for i in range (2, int(math.sqrt(num)+1 )):\n",
    "            # num = a*b, Both a & b not > sqrt(num) because a*b > n\n",
    "            if num % i == 0:\n",
    "                return False\n",
    "        return True\n",
    "\n",
    "# call func\n",
    "n = int(input(\"Nhập n:\"));\n",
    "# Tạo mảng tăng dần từ 1 đến n\n",
    "arr_num = list(range(1, n + 1))\n",
    "\n",
    "result = list (filter(lambda x: is_prime (x, n) == True, arr_num))\n",
    "\n",
    "print (\"Prime list is: \",result)"
   ]
  },
  {
   "cell_type": "markdown",
   "id": "cc757a7b-8d52-43a7-bbe2-efceeab7538b",
   "metadata": {},
   "source": [
    "## Bài 16.\n",
    "Ask the user to enter a new password. Ask them to enter it again. If the two\n",
    "passwords match, display “Thank you”. If the letters are correct but in the wrong\n",
    "case, display the message “They must be in the same case”, otherwise display the\n",
    "message “Incorrect”"
   ]
  },
  {
   "cell_type": "code",
   "execution_count": null,
   "id": "b78670b5-37f1-4af6-b889-013ce9245cc6",
   "metadata": {},
   "outputs": [],
   "source": [
    "arr_num1 = list(map(str, input(\"Enter password 1'st: \").split()))\n",
    "print(arr_num1)\n",
    "arr_num2= list(map(str, input(\"Enter password 2'st: \").split()))\n",
    "print(arr_num2)\n",
    "\n",
    "\n",
    "if (arr_num1 == arr_num2):\n",
    "    print(\"Thank you\")\n",
    "else:\n",
    "     print(\"Incorrect\")\n"
   ]
  },
  {
   "cell_type": "markdown",
   "id": "badeccfe-6f52-4281-8da8-dd69d5d16537",
   "metadata": {},
   "source": [
    "## Bài 17.\n",
    "Viết một chương trình nhập số nguyên dương n và tính tổng của các chữ số của số n.\n",
    "Ví dụ: Nếu người dùng nhập 3141 thì chương trình của bạn nên hiển thị 3 + 1 + 4 + 1 = 9\n"
   ]
  },
  {
   "cell_type": "code",
   "execution_count": 9,
   "id": "f852250b-dbdc-40c3-a367-54fd708a71ec",
   "metadata": {},
   "outputs": [
    {
     "name": "stdin",
     "output_type": "stream",
     "text": [
      "Enter arr:  1234\n"
     ]
    },
    {
     "name": "stdout",
     "output_type": "stream",
     "text": [
      "10\n"
     ]
    }
   ],
   "source": [
    "\n",
    "num = int(input(\"Enter num: \"))\n",
    "\n",
    "temp_arr = []\n",
    "\n",
    "while num > 0: \n",
    "    temp_arr.append(num%10)\n",
    "    num = num//10\n",
    "\n",
    "print (sum(temp_arr))\n",
    "    "
   ]
  },
  {
   "cell_type": "markdown",
   "id": "5d2e81a2-642d-4827-aa3d-b9573006589c",
   "metadata": {},
   "source": [
    "## Bài 18.\n",
    "Ứng dụng chuyển đổi nhiệt độ từ độ C sang F, chuyển đổi từ kg sang pao(lb),\n",
    "diện tích, thể tích, tốc độ, thời gian (Easy)<br>\n",
    "https://www.metric-conversions.org/vi/trong-luong/kilogam-sang-pao.htm<br>\n",
    "Ý tưởng:<br>\n",
    "Xây dựng một chương trình gồm nhiều chức năng trên, người dùng chọn:<br>\n",
    "chức năng 1: Chuyển đổi độ C sang độ F<br>\n",
    "chức năng 2: Chuyển đổi độ F sang độ C<br>\n",
    "chức năng 3: Chuyển đổi từ kg sang pao(lb)<br>\n",
    "chức năng 4: Chuyển đổi từ pao(lb) sang kg<br>\n",
    "chức năng 5: Chuyển đổi từ mét sang feet<br>\n",
    "chức năng 6: Chuyển đổi từ feet sang meet<br>\n",
    "chức năng 7: Thoát chương trình<br>"
   ]
  },
  {
   "cell_type": "code",
   "execution_count": 24,
   "id": "f7805bfb-4207-4e68-849b-978c6ea132c3",
   "metadata": {
    "scrolled": true
   },
   "outputs": [
    {
     "name": "stdout",
     "output_type": "stream",
     "text": [
      "\n",
      "Chương trình chuyển đổi đơn vị:\n",
      "1. Chuyển đổi độ C sang độ F\n",
      "2. Chuyển đổi độ F sang độ C\n",
      "3. Chuyển đổi từ kg sang pao (lb)\n",
      "4. Chuyển đổi từ pao (lb) sang kg\n",
      "5. Chuyển đổi từ mét sang feet\n",
      "6. Chuyển đổi từ feet sang mét\n",
      "7. Thoát chương trình\n"
     ]
    },
    {
     "name": "stdin",
     "output_type": "stream",
     "text": [
      "Chọn chức năng (1-7):  1\n",
      "Nhập nhiệt độ (°C):  20\n"
     ]
    },
    {
     "name": "stdout",
     "output_type": "stream",
     "text": [
      "20.0°C = 68.0°F\n",
      "\n",
      "Chương trình chuyển đổi đơn vị:\n",
      "1. Chuyển đổi độ C sang độ F\n",
      "2. Chuyển đổi độ F sang độ C\n",
      "3. Chuyển đổi từ kg sang pao (lb)\n",
      "4. Chuyển đổi từ pao (lb) sang kg\n",
      "5. Chuyển đổi từ mét sang feet\n",
      "6. Chuyển đổi từ feet sang mét\n",
      "7. Thoát chương trình\n"
     ]
    },
    {
     "name": "stdin",
     "output_type": "stream",
     "text": [
      "Chọn chức năng (1-7):  7\n"
     ]
    },
    {
     "name": "stdout",
     "output_type": "stream",
     "text": [
      "Thoát chương trình.\n"
     ]
    }
   ],
   "source": [
    "def celsius_to_fahrenheit(c):\n",
    "    return (c * 9/5) + 32\n",
    "\n",
    "def fahrenheit_to_celsius(f):\n",
    "    return (f - 32) * 5/9\n",
    "\n",
    "def kg_to_lb(kg):\n",
    "    return kg * 2.20462\n",
    "\n",
    "def lb_to_kg(lb):\n",
    "    return lb / 2.20462\n",
    "\n",
    "def meters_to_feet(m):\n",
    "    return m * 3.28084\n",
    "\n",
    "def feet_to_meters(ft):\n",
    "    return ft / 3.28084\n",
    "\n",
    "def menu():\n",
    "    print(\"\\nChương trình chuyển đổi đơn vị:\")\n",
    "    print(\"1. Chuyển đổi độ C sang độ F\")\n",
    "    print(\"2. Chuyển đổi độ F sang độ C\")\n",
    "    print(\"3. Chuyển đổi từ kg sang pao (lb)\")\n",
    "    print(\"4. Chuyển đổi từ pao (lb) sang kg\")\n",
    "    print(\"5. Chuyển đổi từ mét sang feet\")\n",
    "    print(\"6. Chuyển đổi từ feet sang mét\")\n",
    "    print(\"7. Thoát chương trình\")\n",
    "\n",
    "while True:\n",
    "    menu()\n",
    "    choice = input(\"Chọn chức năng (1-7): \")\n",
    "    \n",
    "    if choice == '1':\n",
    "        c = float(input(\"Nhập nhiệt độ (°C): \"))\n",
    "        print(f\"{c}°C = {celsius_to_fahrenheit(c)}°F\")\n",
    "        \n",
    "    elif choice == '2':\n",
    "        f = float(input(\"Nhập nhiệt độ (°F): \"))\n",
    "        print(f\"{f}°F = {fahrenheit_to_celsius(f)}°C\")\n",
    "        \n",
    "    elif choice == '3':\n",
    "        kg = float(input(\"Nhập khối lượng (kg): \"))\n",
    "        print(f\"{kg} kg = {kg_to_lb(kg)} lb\")\n",
    "        \n",
    "    elif choice == '4':\n",
    "        lb = float(input(\"Nhập khối lượng (lb): \"))\n",
    "        print(f\"{lb} lb = {lb_to_kg(lb)} kg\")\n",
    "        \n",
    "    elif choice == '5':\n",
    "        m = float(input(\"Nhập chiều dài (mét): \"))\n",
    "        print(f\"{m} mét = {meters_to_feet(m)} feet\")\n",
    "        \n",
    "    elif choice == '6':\n",
    "        ft = float(input(\"Nhập chiều dài (feet): \"))\n",
    "        print(f\"{ft} feet = {feet_to_meters(ft)} mét\")\n",
    "        \n",
    "    elif choice == '7':\n",
    "        print(\"Thoát chương trình.\")\n",
    "        break\n",
    "        \n",
    "    else:\n",
    "        print(\"Lựa chọn không hợp lệ, vui lòng chọn lại.\")"
   ]
  },
  {
   "cell_type": "markdown",
   "id": "e7ffe720-8801-407f-9bc4-3f11fbe2efc4",
   "metadata": {},
   "source": [
    "## Bài 19.\n",
    "Làm trò chơi búa, đá, giấy chơi với máy tính<br>\n",
    "Ý tưởng:<br>\n",
    "https://youtu.be/eXQNi8hA_yM<br>\n",
    "Gợi ý:<br>\n",
    "Cách 1: Nhập số từ bàn phím<br>\n",
    "import random<br>\n",
    "choice = int(input(\"User turn: \"))<br>\n",
    "random_choice = random.randint(1, 3)<br>\n",
    "Cách 2: Nhập chữ từ bàn phím<br>\n",
    "import random<br>\n",
    "options = [\"Rock\",\"Paper\",\"Scissors\"]<br>\n",
    "AI = random.choice(options)<br>\n",
    "Người chơi có 5 lượt chơi với máy tính, sau 5 lượt chơi thì thống kê người chơi\n",
    "đã thắng, hòa, thua bao nhiêu lượt với máy tính.<br>"
   ]
  },
  {
   "cell_type": "code",
   "execution_count": null,
   "id": "0cd6b852-c8eb-48ff-9a1f-756a02adbd14",
   "metadata": {},
   "outputs": [],
   "source": [
    "import random\n",
    "\n",
    "options = [\"rock\", \"paper\", \"scissors\"]\n",
    "\n",
    "# Biến đếm số lượt thắng, thua và hòa\n",
    "wins = 0\n",
    "losses = 0\n",
    "draws = 0\n",
    "\n",
    "# Vòng lặp cho 5 lượt chơi\n",
    "for i in range(5):\n",
    "    print(f\"\\nLượt chơi {i+1}:\")\n",
    "    user_choice = input(\"Nhập lựa chọn của bạn (rock/paper/scissors): \").lower()\n",
    "\n",
    "    if user_choice not in options:\n",
    "        print(\"Lựa chọn không hợp lệ! Vui lòng nhập lại.\")\n",
    "        continue\n",
    "    \n",
    "    # Máy tính chọn ngẫu nhiên\n",
    "    AI_choice = random.choice(options)\n",
    "    print(f\"Máy tính chọn: {AI_choice}\")\n",
    "\n",
    "    # So sánh kết quả\n",
    "    if user_choice == AI_choice:\n",
    "        print(\"Hòa!\")\n",
    "        draws += 1\n",
    "    elif (user_choice == \"rock\" and AI_choice == \"scissors\") or \\\n",
    "         (user_choice == \"scissors\" and AI_choice == \"paper\") or \\\n",
    "         (user_choice == \"paper\" and AI_choice == \"rock\"):\n",
    "        print(\"Bạn thắng!\")\n",
    "        wins += 1\n",
    "    else:\n",
    "        print(\"Bạn thua!\")\n",
    "        losses += 1\n",
    "\n",
    "# Thống kê kết quả sau 5 lượt chơi\n",
    "print(\"\\nKết quả sau 5 lượt chơi:\")\n",
    "print(f\"Thắng: {wins} lượt\")\n",
    "print(f\"Hòa: {draws} lượt\")\n",
    "print(f\"Thua: {losses} lượt\")"
   ]
  },
  {
   "cell_type": "code",
   "execution_count": null,
   "id": "fad602de-5820-42ee-ae04-fc7b446a0275",
   "metadata": {},
   "outputs": [],
   "source": []
  },
  {
   "cell_type": "markdown",
   "id": "4f281729-bb02-47e9-add0-b68f9af745fc",
   "metadata": {},
   "source": [
    "## Bài 21.\n",
    "Làm game chọn nhóm. Có một danh sách gồm 8 người chơi, hãy lựa chọn ngẫu\n",
    "nhiên 4 người chơi không trùng nhau để cho vào nhóm A, còn lại cho vào nhóm\n",
    "B."
   ]
  },
  {
   "cell_type": "code",
   "execution_count": 19,
   "id": "d12d9725-b8b7-4008-84bd-dec17658f715",
   "metadata": {},
   "outputs": [
    {
     "name": "stdout",
     "output_type": "stream",
     "text": [
      "gr_A: ['per8', 'per1', 'per3', 'per7']\n",
      "gr_B: ['per2', 'per4', 'per5', 'per6']\n"
     ]
    }
   ],
   "source": [
    "import random\n",
    "group = [\"per1\", \"per2\", \"per3\", \"per4\", \"per5\", \"per6\", \"per7\",\"per8\"]\n",
    "\n",
    "gr_A = random.sample(group, 4)\n",
    "\n",
    "gr_B = list(filter ( lambda x: x not in (gr_A) ,group))\n",
    "\n",
    "print(\"gr_A:\",gr_A)\n",
    "print(\"gr_B:\",gr_B)\n"
   ]
  },
  {
   "cell_type": "markdown",
   "id": "d7d8c75c-f244-42cb-a027-cba23c8e487e",
   "metadata": {},
   "source": []
  },
  {
   "cell_type": "code",
   "execution_count": null,
   "id": "f2487638-4b29-48bc-a9fd-266dce913d25",
   "metadata": {},
   "outputs": [],
   "source": [
    "Bài 22.\n",
    "Tìm vị trí của giá trị chẵn đầu tiên trong mảng 1 chiều các số nguyên. Nếu\n",
    "mảng không có giá trị chẵn thì sẽ trả về -1"
   ]
  },
  {
   "cell_type": "code",
   "execution_count": 22,
   "id": "f58e8fd5-0b33-4fd9-95a9-49678a325744",
   "metadata": {},
   "outputs": [
    {
     "name": "stdin",
     "output_type": "stream",
     "text": [
      "Nhập mảng:  1 3 5 7 \n"
     ]
    },
    {
     "name": "stdout",
     "output_type": "stream",
     "text": [
      "arr_num: [1, 3, 5, 7]\n",
      "Value: -1\n"
     ]
    }
   ],
   "source": [
    "def find_first_even(arr_num):\n",
    "    for i in arr_num:\n",
    "        if i % 2 == 0:\n",
    "            return i \n",
    "    return -1  \n",
    "\n",
    "arr_num = list(map(int, input(\"Nhập mảng: \").split()))\n",
    "print(\"arr_num:\", arr_num)\n",
    "\n",
    "print(\"Value:\", find_first_even(arr_num))"
   ]
  },
  {
   "cell_type": "markdown",
   "id": "fb84bdcb-c090-4526-b606-74fdfed74d29",
   "metadata": {},
   "source": [
    "## Bài 23.\n",
    "Given the year number. You need to check if this year is a leap year. If it is, print\n",
    "LEAP, otherwise print COMMON.<br>\n",
    "The rules in Gregorian calendar are as follows:<br>\n",
    "a year is a leap year if its number is exactly divisible by 4 and is not exactly<br>\n",
    "divisible by 100<br>\n",
    "a year is always a leap year if its number is exactly divisible by 400<br>"
   ]
  },
  {
   "cell_type": "code",
   "execution_count": 28,
   "id": "4ed1f4c1-bdc1-4878-af3b-e55240abed08",
   "metadata": {},
   "outputs": [
    {
     "name": "stdin",
     "output_type": "stream",
     "text": [
      "Enter year:  2017\n"
     ]
    },
    {
     "name": "stdout",
     "output_type": "stream",
     "text": [
      "2017\n",
      "COMMON\n"
     ]
    }
   ],
   "source": [
    "year = int( input(\"Enter year: \"))\n",
    "print(year)\n",
    "\n",
    "if(year%400 ==0 or (year%4 == 0 and year%100 != 0) ):\n",
    "    print(\"LEAP\")\n",
    "else:\n",
    "    print(\"COMMON\")\n"
   ]
  },
  {
   "cell_type": "markdown",
   "id": "b3a86592-6488-4986-9934-2e3105363696",
   "metadata": {},
   "source": [
    "## Bài 24.\n",
    "Viết chương trình tính tổng S = 1 + 1/2 + 1/3 + …+ 1/n với n là số nguyên dương\n",
    "nhập từ bàn phím.\n"
   ]
  },
  {
   "cell_type": "code",
   "execution_count": 34,
   "id": "1b3b6129-727d-42b9-ad47-6f1b3eb28e4e",
   "metadata": {},
   "outputs": [
    {
     "name": "stdin",
     "output_type": "stream",
     "text": [
      "Enter n:  3\n"
     ]
    },
    {
     "name": "stdout",
     "output_type": "stream",
     "text": [
      "1.8333333333333333\n"
     ]
    }
   ],
   "source": [
    "\n",
    "n = int(input(\"Enter n: \"))\n",
    "S = 0\n",
    "for i in  range (1, n + 1):\n",
    "    S = S + 1/i\n",
    "\n",
    "print (S)\n",
    "    "
   ]
  },
  {
   "cell_type": "markdown",
   "id": "26b9aa43-4e4b-44f8-b2db-0522bcf82bd7",
   "metadata": {},
   "source": [
    "## Bài 25.\n",
    "Liệt kê tất cả các ước số của số nguyên dương n."
   ]
  },
  {
   "cell_type": "code",
   "execution_count": 36,
   "id": "d54e98dd-4305-4539-97e0-c77350227d56",
   "metadata": {},
   "outputs": [
    {
     "name": "stdin",
     "output_type": "stream",
     "text": [
      "Enter n: 10\n"
     ]
    },
    {
     "name": "stdout",
     "output_type": "stream",
     "text": [
      "[1, 2, 5, 10]\n"
     ]
    }
   ],
   "source": [
    "def find_divisor(n):\n",
    "    arr=[]\n",
    "    for i in range ( 1, n+1):\n",
    "        if n % i == 0:\n",
    "            arr.append(i);\n",
    "    return arr\n",
    "\n",
    "# Input \n",
    "n = int(input(\"Enter n:\")) \n",
    "\n",
    "print (find_divisor(n))"
   ]
  },
  {
   "cell_type": "markdown",
   "id": "d6d38c68-7758-413a-9e11-2c5805c529d0",
   "metadata": {},
   "source": [
    "## Bài 26.\n",
    "Phân tích một số thành tích các thừa số nguyên tố\n",
    "Input: n = 120\n",
    "Output: 2 2 2 3 5"
   ]
  },
  {
   "cell_type": "code",
   "execution_count": 45,
   "id": "7b405035-e74c-4db2-ae1e-a607aff02b0c",
   "metadata": {},
   "outputs": [
    {
     "name": "stdin",
     "output_type": "stream",
     "text": [
      "Enter n:  120\n"
     ]
    },
    {
     "name": "stdout",
     "output_type": "stream",
     "text": [
      "[2, 2, 2, 3, 5]\n"
     ]
    }
   ],
   "source": [
    "def prime_factorization(n):\n",
    "    arr = []\n",
    "    i = 2\n",
    "    # Chia n cho các số nguyên tố từ 2 trở đi\n",
    "    while n > 1:\n",
    "        if n % i == 0:  # Nếu n chia hết cho i\n",
    "            arr.append(i)  # Thêm i vào danh sách thừa số\n",
    "            n = n // i  # Chia n cho i\n",
    "        else:\n",
    "            i += 1  # Tăng i để kiểm tra số tiếp theo\n",
    "    return arr\n",
    "\n",
    "# Input\n",
    "n = int(input(\"Enter n: \"))\n",
    "\n",
    "print(prime_factorization(n))\n"
   ]
  },
  {
   "cell_type": "markdown",
   "id": "087114d3-cb5d-4f4e-b2f9-77988f72a925",
   "metadata": {},
   "source": [
    "## Bài 27.\n",
    "Given a non-empty string and an int n, return a new string where the char at index\n",
    "n has been removed. The value of n will be a valid index of a char in the original\n",
    "string (i.e. n will be in the range 0..len(str)-1 inclusive).<br>\n",
    "missing_char('kitten', 1) → 'ktten'<br>\n",
    "missing_char('kitten', 0) → 'itten'<br>\n",
    "missing_char('kitten', 4) → 'kittn’"
   ]
  },
  {
   "cell_type": "code",
   "execution_count": 47,
   "id": "0b8198d5-db46-4f96-8919-0268410a0cb7",
   "metadata": {},
   "outputs": [
    {
     "name": "stdout",
     "output_type": "stream",
     "text": [
      "kitt\n",
      "n\n",
      "kittn\n"
     ]
    }
   ],
   "source": [
    "def missing_char(s, n):\n",
    "    print(s[:n])\n",
    "    print(s[n+1:])\n",
    "    return s[:n] + s[n+1:]\n",
    "\n",
    "\n",
    "print(missing_char('kitten', 4))  # Output: kittn "
   ]
  },
  {
   "cell_type": "markdown",
   "id": "7ae1ff08-7ab4-4b03-b65c-1d6e4ebda256",
   "metadata": {},
   "source": [
    "## Bài 28.\n",
    "Given a string, return a new string where the first and last chars have been\n",
    "exchanged.<br>\n",
    "front_back('code') → 'eodc'<br>\n",
    "front_back('a') → 'a'<br>\n",
    "front_back('ab') → 'ba’<br>\n"
   ]
  },
  {
   "cell_type": "code",
   "execution_count": 25,
   "id": "2b11b04a-6254-47ed-9fff-4d3fb26f0993",
   "metadata": {},
   "outputs": [
    {
     "name": "stdin",
     "output_type": "stream",
     "text": [
      "Enter text:  ab\n"
     ]
    },
    {
     "name": "stdout",
     "output_type": "stream",
     "text": [
      "ba\n"
     ]
    }
   ],
   "source": [
    "text = input(\"Enter text: \") \n",
    "n =len(text)\n",
    "if(n ==1):\n",
    "    print(text[0])\n",
    "else:\n",
    "    print(text[n-1] + text[1:n-1] + text[0])\n",
    "\n"
   ]
  },
  {
   "cell_type": "markdown",
   "id": "805030b8-7197-477a-9b63-5145b07bded2",
   "metadata": {},
   "source": [
    "## Bài 29.\n",
    "You are driving a little too fast, and a police officer stops you. Write code to\n",
    "compute the result, encoded as an int value: 0=no ticket, 1=small ticket, 2=big\n",
    "ticket. If speed is 60 or less, the result is 0. If speed is between 61 and 80\n",
    "inclusive, the result is 1. If speed is 81 or more, the result is 2. Unless it is your\n",
    "birthday -- on that day, your speed can be 5 higher in all cases. <br>\n",
    "caught_speeding(60, False) → 0<br>\n",
    "caught_speeding(65, False) → 1<br>\n",
    "caught_speeding(65, True) → 0<br>\n"
   ]
  },
  {
   "cell_type": "code",
   "execution_count": 30,
   "id": "5bc31f84-3882-48fb-acb7-aeb20d035f45",
   "metadata": {},
   "outputs": [
    {
     "name": "stdin",
     "output_type": "stream",
     "text": [
      "Enter speed:  70\n"
     ]
    },
    {
     "name": "stdout",
     "output_type": "stream",
     "text": [
      "ticket =  1\n"
     ]
    }
   ],
   "source": [
    "speed = int(input (\"Enter speed: \"))\n",
    "\n",
    "def fine_driver (speed):    \n",
    "    if speed <= 60:\n",
    "        return 0\n",
    "    elif speed >= 61 and speed <= 80 :\n",
    "        return 1\n",
    "    elif speed >= 81:\n",
    "        return 2\n",
    "\n",
    "\n",
    "print (\"ticket = \", fine_driver (speed))"
   ]
  },
  {
   "cell_type": "markdown",
   "id": "3dfa1271-bfd9-45be-8fd9-841d5ebf25a3",
   "metadata": {},
   "source": [
    "## Bài 30\n",
    "Given 3 int values, a b c, return their sum. However, if one of the values is 13\n",
    "then it does not count towards the sum and values to its right do not count. So\n",
    "for example, if b is 13, then both b and c do not count.<br>\n",
    "lucky_sum(1, 2, 3) → 6<br>\n",
    "lucky_sum(1, 2, 13) → 3<br>\n",
    "lucky_sum(1, 13, 3) → 1<br>\n"
   ]
  },
  {
   "cell_type": "code",
   "execution_count": 36,
   "id": "10581c4e-6537-4a3d-b802-d3a9acd7cdd7",
   "metadata": {},
   "outputs": [
    {
     "name": "stdin",
     "output_type": "stream",
     "text": [
      "Enter a:  3\n",
      "Enter b:  2\n",
      "Enter c:  5\n"
     ]
    },
    {
     "name": "stdout",
     "output_type": "stream",
     "text": [
      "sum = 10\n"
     ]
    }
   ],
   "source": [
    "def lucky_sum(a,b,c):     \n",
    "    if a == 13:\n",
    "        return 0 \n",
    "    elif b == 13:\n",
    "        return  a\n",
    "    elif c == 13:\n",
    "        return  a + b\n",
    "    else:\n",
    "        return a+b+c\n",
    "\n",
    "a = int(input (\"Enter a: \"))\n",
    "b = int(input (\"Enter b: \"))\n",
    "c = int(input (\"Enter c: \"))\n",
    "print(\"sum =\" , lucky_sum(a,b,c))"
   ]
  },
  {
   "cell_type": "markdown",
   "id": "f09df484-f31b-4552-aef3-6a8fd4d5ca9a",
   "metadata": {},
   "source": [
    "## Bài 31. \n",
    "Given an array length 1 or more of ints, return the difference between the largest \n",
    "and smallest values in the array. Note: the built-in min(v1, v2) and max(v1, v2) \n",
    "functions return the smaller or larger of two values. <br>\n",
    "big_diff([10, 3, 5, 6]) → 7 <br>\n",
    "big_diff([7, 2, 10, 9]) → 8 <br>\n",
    "big_diff([2, 10, 7, 2]) → 8 <br>"
   ]
  },
  {
   "cell_type": "code",
   "execution_count": 39,
   "id": "f3d0a38b-dcbe-42ed-bfb4-aaba00ea0b84",
   "metadata": {},
   "outputs": [
    {
     "name": "stdin",
     "output_type": "stream",
     "text": [
      "Enter arr:  1 1 1 1 \n"
     ]
    },
    {
     "name": "stdout",
     "output_type": "stream",
     "text": [
      "Difference:  0\n"
     ]
    }
   ],
   "source": [
    "def big_diff (arr):\n",
    "    return max(arr)- min(arr)\n",
    "\n",
    "\n",
    "arr = list(map(int, input(\"Enter arr: \" ).split()))\n",
    "\n",
    "print (\"Difference: \" , big_diff (arr))"
   ]
  },
  {
   "cell_type": "markdown",
   "id": "1c5c57ba-05b2-4b8a-a3ab-514e9c7ee195",
   "metadata": {},
   "source": [
    "## Bài 32. \n",
    "Tìm số chẵn cuối cùng trong mảng 1 chiều các số nguyên. Nếu mảng không có \n",
    "giá trị chẵn thì trả về -1 "
   ]
  },
  {
   "cell_type": "code",
   "execution_count": 43,
   "id": "2671345b-0803-4521-b0f5-83401363c1b2",
   "metadata": {},
   "outputs": [
    {
     "name": "stdin",
     "output_type": "stream",
     "text": [
      "Enter arr:  1 2 3 4 5\n"
     ]
    },
    {
     "name": "stdout",
     "output_type": "stream",
     "text": [
      "last even number:  4\n"
     ]
    }
   ],
   "source": [
    "def last_even(arr):\n",
    "    for i in range(len(arr) -1 , 0, -1):\n",
    "        if arr[i] % 2 == 0:\n",
    "            return arr[i]\n",
    "    return -1\n",
    "\n",
    "arr = list(map(int, input(\"Enter arr: \" ).split()))\n",
    "\n",
    "print (\"last even number: \" , last_even(arr))"
   ]
  },
  {
   "cell_type": "markdown",
   "id": "e04346a4-a00f-460d-b183-d36c6d71d6a0",
   "metadata": {},
   "source": [
    "## Bài 33. \n",
    "Given a dictionary containing counts of both upvotes and downvotes, return what \n",
    "vote count should be displayed. This is calculated by subtracting the number of \n",
    "downvotes from upvotes.<br>\n",
    "Examples<br>\n",
    "get_vote_count({ \"upvotes\": 13, \"downvotes\": 0 }) ➞ 13<br>\n",
    "get_vote_count({ \"upvotes\": 2, \"downvotes\": 33 }) ➞ -31<br>\n",
    "get_vote_count({ \"upvotes\": 132, \"downvotes\": 132 }) ➞ 0 <br>"
   ]
  },
  {
   "cell_type": "code",
   "execution_count": 45,
   "id": "457552ce-31e1-4ae1-aed9-60540dc91554",
   "metadata": {},
   "outputs": [
    {
     "name": "stdout",
     "output_type": "stream",
     "text": [
      "13\n",
      "-31\n",
      "0\n"
     ]
    }
   ],
   "source": [
    "def get_vote_count(votes):\n",
    "    return votes['upvotes'] - votes['downvotes']\n",
    "\n",
    "print(get_vote_count({ \"upvotes\": 13, \"downvotes\": 0 }))  # Output: 13\n",
    "print(get_vote_count({ \"upvotes\": 2, \"downvotes\": 33 }))  # Output: -31\n",
    "print(get_vote_count({ \"upvotes\": 132, \"downvotes\": 132 }))  # Output: 0\n"
   ]
  },
  {
   "cell_type": "markdown",
   "id": "289f6c4f-2f7e-42c9-b174-3b6518617dff",
   "metadata": {},
   "source": [
    "## Bài 34. \n",
    "Sắp xếp mảng 1 chiều tăng dần   <br>\n",
    "Input:    3   5  2  8 10  7   12 <br>\n",
    "Output:  2  3  5  7  8  10   12  <br>\n",
    "Lưu ý: Không sử dụng hàm sort() <br>"
   ]
  },
  {
   "cell_type": "code",
   "execution_count": 47,
   "id": "d26db7d8-eec1-4ddf-ad8e-dc6637403dbd",
   "metadata": {},
   "outputs": [
    {
     "name": "stdin",
     "output_type": "stream",
     "text": [
      "Enter arr: 75 6 6 3 2 5\n"
     ]
    },
    {
     "name": "stdout",
     "output_type": "stream",
     "text": [
      "Mảng sau khi sắp xếp: [2, 3, 5, 6, 6, 75]\n"
     ]
    }
   ],
   "source": [
    "def bubble_sort(arr):\n",
    "    n = len(arr)\n",
    "    for i in range(n):\n",
    "        for j in range(0, n-i-1):\n",
    "            if arr[j] > arr[j+1]:\n",
    "                arr[j], arr[j+1] = arr[j+1], arr[j]  # swap \n",
    "\n",
    "arr = list(map(int, input(\"Enter arr:\").split()))\n",
    "\n",
    "bubble_sort(arr)\n",
    "\n",
    "print(\"Mảng sau khi sắp xếp:\", arr)"
   ]
  },
  {
   "cell_type": "markdown",
   "id": "9e5df438-09ee-4f55-b947-9943ce2d125c",
   "metadata": {},
   "source": [
    "## Bài 35. \n",
    "Đây là một chương trình tính tổng và trừ 2 số,  viết lại chương trình này bằng cách sử dụng hàm. \n",
    " ```python\n",
    " if command == \"add\": \n",
    "        print(\"lets add some numbers\") \n",
    "        input1 = input(\"Number 1>\") \n",
    "        input2 = input(\"Number 2>\") \n",
    "        number1 = int(input1) \n",
    "        number2 = int(input2) \n",
    "        result = number1 + number2 \n",
    "        output = str(result) \n",
    "        print(input1 + \" + \" + input2 + \" = \" + output) \n",
    " \n",
    " elif command == \"subtract\": \n",
    "        print(\"lets subtract some numbers\") \n",
    "        input1 = input(\"Number 1>\") \n",
    "        input2 = input(\"Number 2>\") \n",
    "        number1 = int(input1) \n",
    "        number2 = int(input2) \n",
    "        result = number1 - number2 \n",
    "        output = str(result) \n",
    "        print(input1 + \" - \" + input2 + \" = \" + output) \n",
    "```"
   ]
  },
  {
   "cell_type": "code",
   "execution_count": 54,
   "id": "33cce03a-90ba-4859-9aad-a868e8cba63f",
   "metadata": {},
   "outputs": [
    {
     "name": "stdin",
     "output_type": "stream",
     "text": [
      "Enter add or subtract:  add\n",
      "Number 1> 4 \n",
      "Number 2> 8\n"
     ]
    },
    {
     "name": "stdout",
     "output_type": "stream",
     "text": [
      "Add number: 4 + 8  = 12\n",
      "12\n"
     ]
    }
   ],
   "source": [
    "def sum_num(input1, input2):\n",
    "    return input1 + input2\n",
    "\n",
    "\n",
    "def subtract_num(input1, input2):\n",
    "    return input1 - input2\n",
    "\n",
    "\n",
    "def calculate(command, input1, input2):\n",
    "    if command == \"add\":\n",
    "        print(f\"Add number: {input1} + {input2}  = {sum_num(input1, input2)}\")\n",
    "        return sum_num(input1, input2)\n",
    "    if command == \"subtract\":\n",
    "        print(f\"Subtract {input1} - {input2}  = {subtract_num(input1, input2)}\")\n",
    "        return subtract_num(input1, input2)\n",
    "\n",
    "\n",
    "command = str(input(\"Enter add or subtract: \"))\n",
    "input1 = int(input(\"Number 1>\"))\n",
    "input2 = int(input(\"Number 2>\"))\n",
    "print( calculate(command, input1, input2))\n",
    "\n"
   ]
  },
  {
   "attachments": {
    "c8ae2508-8787-483e-b1ae-0cc2508ffcfb.png": {
     "image/png": "[encoded data removed]"
    }
   },
   "cell_type": "markdown",
   "id": "162d6eb2-a68e-4b75-90ef-b6d3a4bb3d01",
   "metadata": {},
   "source": [
    "## Bài 36. \n",
    "Viết chương trình nhập vào 2 số nguyên dương a và b. Tìm ước số chung lớn nhất \n",
    "của a và b. <br>\n",
    " \n",
    "Ví dụ: <br>\n",
    "● Input: <br>\n",
    "○ a = 30 <br>\n",
    "○ b = 40 <br>\n",
    "● Output: <br>\n",
    "○ UCLN = 10 <br>\n",
    "○ BCNN = 120 <br>\n",
    "Ước chung lớn nhất của hai số nguyên a và b là số nguyên dương lớn nhất mà a và b \n",
    "chia hết. <br>\n",
    "Bội số chung nhỏ nhất của hai số nguyên a và b là số nguyên dương nhỏ nhất chia hết \n",
    "cho cả a và b. <br>\n",
    "Nếu có số tự nhiên a chia hết cho số tự nhiên b thì ta gọi a là bội của b và b là ước của \n",
    "a.<br>\n",
    "![image.png](attachment:c8ae2508-8787-483e-b1ae-0cc2508ffcfb.png)<br>\n",
    "Ví dụ:  <br>\n",
    "Tìm ước chung lớn nhất của 27 và 45?  \n",
    "UCLN(27,45)=9 <br>\n"
   ]
  },
  {
   "cell_type": "code",
   "execution_count": 61,
   "id": "75d8fa7b-d462-4ca7-8451-9f882834131d",
   "metadata": {},
   "outputs": [
    {
     "name": "stdin",
     "output_type": "stream",
     "text": [
      "Enter a:  3\n",
      "Enter b:  3\n"
     ]
    },
    {
     "name": "stdout",
     "output_type": "stream",
     "text": [
      "UCLN = 3\n",
      "BCNN = 3\n"
     ]
    }
   ],
   "source": [
    "def ucln(a, b):\n",
    "     if a==b:\n",
    "        return a\n",
    "     while b != 0:\n",
    "        a, b = b, a % b #swap \n",
    "     return a\n",
    "\n",
    "def bcnn(a, b):\n",
    "     return a * b // ucln(a, b)  # BCNN = a * b / UCLN\n",
    "\n",
    "a = int(input(\"Enter a: \"))\n",
    "b = int(input(\"Enter b: \"))\n",
    "\n",
    "ucln_val = ucln(a, b)\n",
    "bcnn_val = bcnn(a, b)\n",
    "\n",
    "# In kết quả\n",
    "print(f\"UCLN = {ucln_val}\")\n",
    "print(f\"BCNN = {bcnn_val}\")"
   ]
  },
  {
   "attachments": {
    "8d5f4560-b879-437f-bf1c-944a46b939c3.png": {
     "image/png": "[encoded data removed]"
    }
   },
   "cell_type": "markdown",
   "id": "b8478c15-c766-4001-864a-f5da7dfb9eac",
   "metadata": {},
   "source": [
    "## Bai 37\n",
    "Viết chương trình nhập vào 2 số nguyên dương a và b. Tìm bội số chung nhỏ nhất \n",
    "của a và b. <br>\n",
    "Ví dụ: <br>\n",
    "BCNN(6,10) = 30 <br>\n",
    "Bội số của 6: 6   12     18     24     30     36  ……. <br>\n",
    "Bội số của 10: 10  20    30   40  …. <br>\n",
    "![image.png](attachment:8d5f4560-b879-437f-bf1c-944a46b939c3.png)<br>"
   ]
  },
  {
   "cell_type": "code",
   "execution_count": 62,
   "id": "36899019-e38e-4e69-9b81-4076ee64b99b",
   "metadata": {},
   "outputs": [
    {
     "name": "stdin",
     "output_type": "stream",
     "text": [
      "Enter a:  4\n",
      "Enter b:  9\n"
     ]
    },
    {
     "name": "stdout",
     "output_type": "stream",
     "text": [
      "BCNN = 36\n"
     ]
    }
   ],
   "source": [
    "def ucln(a, b):\n",
    "     if a==b:\n",
    "        return a\n",
    "     while b != 0:\n",
    "        a, b = b, a % b #swap \n",
    "     return a\n",
    "\n",
    "def bcnn(a, b):\n",
    "     return a * b // ucln(a, b)  # BCNN = a * b / UCLN\n",
    "\n",
    "a = int(input(\"Enter a: \"))\n",
    "b = int(input(\"Enter b: \"))\n",
    "\n",
    "ucln_val = ucln(a, b)\n",
    "bcnn_val = bcnn(a, b)\n",
    "\n",
    "print(f\"BCNN = {bcnn_val}\")"
   ]
  },
  {
   "cell_type": "markdown",
   "id": "0ca96014-c0bc-422b-97ed-f7ed05da3378",
   "metadata": {},
   "source": [
    "## Bài 38. \n",
    "Viết một hàm với đầu vào là tọa độ hai điểm trên mặt phẳng hai chiều và trả về \n",
    "độ dài đoạn thẳng nối hai điểm đó. <br>\n",
    "Ví dụ: <br>\n",
    "line_length([15, 7], [22, 11]) ➞ 8.06 <br>\n",
    "line_length([0, 0], [0, 0]) ➞ 0<br>\n",
    "line_length([0, 0], [1, 1]) ➞ 1.41<br>"
   ]
  },
  {
   "cell_type": "code",
   "execution_count": null,
   "id": "ae05696f-b1ff-48e6-8e8c-7aec33a93cbb",
   "metadata": {},
   "outputs": [],
   "source": [
    "import math\n",
    "\n",
    "def line_length(point1, point2):\n",
    "\n",
    "  x1, y1 = point1\n",
    "  x2, y2 = point2\n",
    "  distance = math.sqrt((x2 - x1)**2 + (y2 - y1)**2)\n",
    "  return distance\n",
    "\n",
    "print(line_length([15, 7], [22, 11]))  # Output: 8.06\n"
   ]
  },
  {
   "cell_type": "markdown",
   "id": "1cebfdba-7ea3-4e08-82da-9c36cc0bbe80",
   "metadata": {},
   "source": [
    "## Bài 39. \n",
    "Viết một hàm có tên capital_indexes. Hàm nhận một tham số duy nhất là một \n",
    "chuỗi. Hàm của bạn sẽ trả về một danh sách tất cả các chỉ số (index) trong chuỗi \n",
    "có chữ in hoa. <br>\n",
    "Ví dụ: gọi capital_indexes (\"HeLlO\") sẽ trả về danh sách [0, 2, 4].<br>"
   ]
  },
  {
   "cell_type": "code",
   "execution_count": 64,
   "id": "e9877c0f-8412-403b-8838-1ccc7461326f",
   "metadata": {},
   "outputs": [
    {
     "name": "stdout",
     "output_type": "stream",
     "text": [
      "[0, 2, 4, 8]\n"
     ]
    }
   ],
   "source": [
    "def capital_indexes(string):\n",
    "  result = []\n",
    "  for i in range(len(string)):\n",
    "    if string[i].isupper():\n",
    "      result.append(i)\n",
    "  return result\n",
    "print(capital_indexes(\"HeLlO\")) "
   ]
  },
  {
   "cell_type": "markdown",
   "id": "58fe0576-0ebf-4e8c-b767-c5d84da00a5f",
   "metadata": {},
   "source": [
    "## Bài 40. \n",
    "Kiểm tra đối xứng <br>\n",
    "Một chuỗi gọi là đối xứng khi đọc từ trái qua phải hay phải qua trái thì kết quả \n",
    "giống nhau.  <br>\n",
    "Ví dụ: Chuỗi  \"bob\" và chuỗi \" abba\" là đối xứng <br>\n",
    "Chuỗi “ abcd” không phải đối xứng vì  \"abcd\" != \"dcba\". <br>\n",
    "Viết một hàm có tên  palindrome kiểm tra tính đối xứng. Hàm trả True nếu đối \n",
    "xứng, False nếu không đối xứng.<br>"
   ]
  },
  {
   "cell_type": "code",
   "execution_count": null,
   "id": "8651298e-f8cb-40cc-beac-a04734a650d5",
   "metadata": {},
   "outputs": [],
   "source": [
    "def palindrome(string):\n",
    "  reversed_string = string[::-1]\n",
    "  return string == reversed_string\n",
    "\n",
    "print(palindrome(\"bob\"))  # Output: True\n",
    "print(palindrome(\"abba\"))  # Output: True\n",
    "print(palindrome(\"abcd\"))  # Output: False"
   ]
  },
  {
   "cell_type": "markdown",
   "id": "d1048588-3085-4578-ba0e-b56d353a2689",
   "metadata": {},
   "source": [
    "## Bài 41. \n",
    "Hãy viết chương trình nhập vào số nguyên dương n. Kiểm tra xem n có phải là số \n",
    "chính phương hay không? (số chính phương là số khi lấy căn bậc 2 có kết quả là \n",
    "nguyên). Hãy viết chương trình kiểm tra số chính phương. <br>"
   ]
  },
  {
   "cell_type": "code",
   "execution_count": null,
   "id": "421ba85f-2a45-4f12-a157-886e56623470",
   "metadata": {},
   "outputs": [],
   "source": [
    "import math\n",
    "\n",
    "def is_perfect_square(number):\n",
    "  root = int(math.sqrt(number))\n",
    "  return root * root == number\n",
    "\n",
    "number = int(input(\"Nhập số nguyên dương: \"))\n",
    "if is_perfect_square(number):\n",
    "  print(number, \"là số chính phương\")\n",
    "else:\n",
    "  print(number, \"không phải là số chính phương\")"
   ]
  },
  {
   "cell_type": "markdown",
   "id": "c2201ef2-7331-4205-99e9-aa3a30b976ec",
   "metadata": {},
   "source": [
    "## Bài 42. \n",
    "Viết chương trình  nhập vào số n.. xuất số đảo ngược của n đó..  <br>\n",
    "Vd: n = 123 => 321 <br>\n",
    "n = 4320 → 0234<br>"
   ]
  },
  {
   "cell_type": "code",
   "execution_count": 9,
   "id": "6cfe20d5-3533-450f-9ef5-fd06b672ea17",
   "metadata": {},
   "outputs": [
    {
     "name": "stdin",
     "output_type": "stream",
     "text": [
      "Enter num:  12345\n"
     ]
    },
    {
     "name": "stdout",
     "output_type": "stream",
     "text": [
      "54321\n"
     ]
    }
   ],
   "source": [
    "num = input(\"Enter num: \")  # Không cần phải chuyển sang int, chỉ cần xử lý chuỗi\n",
    "\n",
    "# slicing\n",
    "print(num[::-1])"
   ]
  },
  {
   "cell_type": "markdown",
   "id": "255d8f8b-64cd-4859-afce-d2d8ce55f784",
   "metadata": {},
   "source": [
    "## <br>Bai 43:\n",
    "Cho số nguyên dương X, khi đảo ngược trật tự các chữ số của X ta sẽ thu được một số nguyên dương Y, Y được gọi là số đảo ngược của X. <br>\n",
    "Ví dụ: X = 613 thì Y = 316 là số đảo ngược của X. <br>\n",
    "Số nguyên dương Y được gọi là số nguyên tố nếu nó chỉ có hai ước số là 1 và chính nó, số 1 không phải là số nguyên tố. <br>\n",
    "Cho hai số nguyên dương P và Q (1 ≤ P ≤ Q ≤ 2109; Q - P ≤ 105). <br>\n",
    " \n",
    "Yêu cầu: Hãy tìm tất cả các số nguyên dương X nằm thỏa mãn P≤X≤Q và số đảo ngược của số X là số nguyên tố. <br>\n",
    "Dữ liệu vào:  Cho trong file văn bản TimSo.txt có cấu trúc như sau: <br>\n",
    "- Dòng 1: Ghi hai số nguyên dương PQ,hai số được ghi cách nhau ít nhất một dấu cách. <br>\n",
    "Dữ liệu ra: Ghi ra file văn bản KetQua.txt trên nhiều dòng,mỗi dòng ghi một số nguyên X tìm dược <br>\n",
    " \n",
    "Ví dụ: <br>\n",
    "TimSo.txt <br>\n",
    "10   19 <br>\n",
    " \n",
    "KetQua.txt <br>\n",
    "11 <br>\n",
    "13 <br>\n",
    "14 <br>\n",
    "16 <br>\n",
    "17 <br>"
   ]
  },
  {
   "cell_type": "code",
   "execution_count": 18,
   "id": "204b8156-272c-4fa5-9712-daf6bf9d8b56",
   "metadata": {},
   "outputs": [],
   "source": [
    "import math\n",
    "\n",
    "\n",
    "def is_prime(n):\n",
    "    if n < 2:\n",
    "        return False\n",
    "    for i in range(2, int(math.sqrt(n)) + 1):\n",
    "        if n % i == 0:\n",
    "            return False\n",
    "    return True\n",
    "\n",
    "\n",
    "def reverse_number(n):\n",
    "    return int(str(n)[::-1])\n",
    "\n",
    "# read file TimSo.txt\n",
    "with open('E:\\\\4.Python\\\\4.Github repo\\\\Timso.txt', 'r') as file:\n",
    "    # Lấy hai số P và Q\n",
    "    line = file.readline().strip()\n",
    "    P, Q = map(int, line.split())\n",
    "\n",
    " \n",
    "result = []\n",
    "\n",
    " \n",
    "for X in range(P, Q + 1):\n",
    "    Y = reverse_number(X)\n",
    "    if is_prime(Y):\n",
    "        result.append(X)\n",
    "\n",
    "# Ghi kết quả vào file KetQua.txt\n",
    "with open('E:\\\\4.Python\\\\4.Github repo\\\\KetQua.txt', 'w') as file:\n",
    "    for num in result:\n",
    "        file.write(f\"{num}\\n\")"
   ]
  },
  {
   "cell_type": "markdown",
   "id": "db037665-dca3-4e31-8ff5-14e194aac806",
   "metadata": {},
   "source": [
    "## Bài 44. \n",
    "Viết một chương trình chấp nhận chuỗi từ do người dùng nhập vào, phân tách \n",
    "nhau <br>\n",
    "bởi dấu phẩy và in những từ đó thành chuỗi theo thứ tự bảng chữ cái, phân tách \n",
    "nhau bằng dấu phẩy. <br>\n",
    "Giả sử đầu vào được nhập là: without,hello,bag,world, thì đầu ra sẽ \n",
    "là: bag,hello,without,world<br>"
   ]
  },
  {
   "cell_type": "code",
   "execution_count": 39,
   "id": "a7aca1b6-2d71-4821-9448-48122e07754b",
   "metadata": {},
   "outputs": [
    {
     "name": "stdin",
     "output_type": "stream",
     "text": [
      "Enter str:  without,hello,bag,world\n"
     ]
    },
    {
     "name": "stdout",
     "output_type": "stream",
     "text": [
      "bag,hello,without,world\n"
     ]
    }
   ],
   "source": [
    "str_val = list(map(str, input(\"Enter str: \").split(',')))\n",
    "str_val.sort()\n",
    "result = ','.join(str_val)\n",
    "print(result)"
   ]
  },
  {
   "cell_type": "markdown",
   "id": "711efaff-42cc-498c-b135-c5d7cfe5f111",
   "metadata": {},
   "source": [
    "## Bài 45. \n",
    "Write a function named add_dots that takes a string and adds \".\" in between each \n",
    "letter. <br>\n",
    "\n",
    "For example, calling add_dots(\"test\") should return the string \"t.e.s.t\". <br>\n",
    "\n",
    "Then, below the add_dots function, write another function named remove_dots \n",
    "that removes all dots from a string. For example, calling remove_dots(\"t.e.s.t\") \n",
    "should return \"test\". <br>\n",
    "\n",
    "If both functions are correct, calling remove_dots(add_dots(string)) should return \n",
    "back the original string for any string. <br>"
   ]
  },
  {
   "cell_type": "code",
   "execution_count": 32,
   "id": "15023777-588e-4cc6-92c4-7b70d0c8ada8",
   "metadata": {},
   "outputs": [
    {
     "name": "stdout",
     "output_type": "stream",
     "text": [
      "Adding dots: t.e.s.t\n",
      "Removing dots: test\n",
      "Original string after both operations: test\n"
     ]
    }
   ],
   "source": [
    "# add '.'\n",
    "def add_dots(string):\n",
    "    return '.'.join(string)\n",
    "\n",
    "# remove all '.'\n",
    "def remove_dots(string):\n",
    "    return string.replace('.', '')\n",
    "\n",
    "test_str = \"test\"\n",
    "\n",
    "print(\"Adding dots:\", add_dots(test_str))   \n",
    "\n",
    "print(\"Removing dots:\", remove_dots(dots_added))  \n",
    "\n",
    "print(\"Original string after both operations:\", remove_dots(add_dots(test_str)))  "
   ]
  },
  {
   "cell_type": "markdown",
   "id": "32ae405c-9dd9-4908-b625-fcff78fe27fc",
   "metadata": {},
   "source": [
    "## Bài 46. \n",
    "Viết một chương trình chấp nhận đầu vào là một câu, đếm số chữ cái và chữ số \n",
    "trong câu đó. Giả sử đầu vào sau được cấp cho chương trình: <br>\n",
    "Input: hello world! 123 <br>\n",
    "Thì đầu ra sẽ là: <br>\n",
    "Số chữ cái là: 10 <br>\n",
    "Số chữ số là: 3<br>"
   ]
  },
  {
   "cell_type": "code",
   "execution_count": 4,
   "id": "0ff6f256-aa28-44fc-905f-de90e5cfb62b",
   "metadata": {},
   "outputs": [
    {
     "name": "stdin",
     "output_type": "stream",
     "text": [
      "Enter str:  hjsjahs 276 gjdj \n"
     ]
    },
    {
     "name": "stdout",
     "output_type": "stream",
     "text": [
      "hjsjahs 276 gjdj \n",
      "Count digits: 3\n",
      "Count character: 11\n"
     ]
    }
   ],
   "source": [
    "p = str(input(\"Enter str: \"))\n",
    "\n",
    "digit = 0\n",
    "character = 0\n",
    "for i in p:\n",
    "    if (i.isalpha() == True):\n",
    "        character+=1\n",
    "    if (i.isdigit() == True):\n",
    "        digit+=1\n",
    "\n",
    "print(\"Count digits:\",digit )\n",
    "print(\"Count character:\",character )"
   ]
  },
  {
   "cell_type": "markdown",
   "id": "0723f59b-0165-4256-8205-dde6009b95ab",
   "metadata": {},
   "source": [
    "## Bài 47. \n",
    "Thiết kế trò chơi đoán từ vựng như chiếc nón kỳ diệu. \n",
    "Máy tính sẽ hiện các ô chữ tương ứng với số chữ cái của từ bí mật.  \n",
    "Ví dụ:  <br>\n",
    "Tên một loài động vật bơi ở biển có 4 chữ cái ? <br>\n",
    "Từ bí mật là Fish gồm 4 chữ cái  <br>\n",
    "Welcome to Hangman! <br>\n",
    "_ _ _ _ <br>\n",
    "Guess your letter: I<br>\n",
    "\n",
    "Người dùng nhập từ ký tự muốn đoán. Sau đó chương trình sẽ hiện tất cả các ký \n",
    "tự đó nếu có trong từ bí mật. <br>\n",
    "_ I _ _ <br>\n",
    "Trò chơi chỉ cho phép bạn đoán sai tối đa 5 lần, nếu quá 5 lần thì chương trình in \n",
    "ra từ bí mật.<br>"
   ]
  },
  {
   "cell_type": "code",
   "execution_count": null,
   "id": "d09d11e4-0b8c-4979-8ba4-048995103f0b",
   "metadata": {
    "scrolled": true
   },
   "outputs": [],
   "source": [
    "import random\n",
    "\n",
    "words = [\"fish\", \"shark\", \"whale\", \"dolphin\", \"seal\"]\n",
    "\n",
    "secret_word = random.choice(words).lower()\n",
    "print(secret_word)\n",
    "\n",
    "guessed_word = [\"_\" for _ in secret_word]\n",
    "\n",
    "max_err = 5\n",
    "attempts = 0\n",
    "wrong_guesses = []\n",
    "\n",
    "print(\"Question: Tên một loài động vật sống dưới biển.\")\n",
    "print(\" \".join(guessed_word))\n",
    "\n",
    "while attempts < max_err and \"_\" in guessed_word:\n",
    "    guess = input(\"Nhập dự đoán: \").lower()\n",
    "   \n",
    "    if len(guess) != 1 and guess.isalpha() == False:\n",
    "        print(\"Chuỗi có ký tự không hợp lệ !\")\n",
    "        continue\n",
    "\n",
    "    if guess in words and guess in wrong_guesses:\n",
    "        print(f\"Bạn đã đoán ký tự '{guess}' rồi!\")\n",
    "        max_err = max_err - 1\n",
    "        continue\n",
    "\n",
    "    if guess in secret_word:\n",
    "        print(\"Ban da doan dung: \", guess)\n",
    "        break\n",
    "    else:\n",
    "        attempts += 1\n",
    "        wrong_guesses.append(guess)\n",
    "        print(f\"Không có '{guess}' . Bạn còn {max_err - attempts} lần đoán sai.\")\n",
    "        print(\" \".join(guessed_word))  "
   ]
  },
  {
   "cell_type": "markdown",
   "id": "f628d966-045d-42de-9af9-dbf2fcdcc8dc",
   "metadata": {},
   "source": [
    "## Bài 48. \n",
    "Đọc nội dung của một file INPUT.txt có cấu trúc như sau: <br>\n",
    "● Dòng đầu tiên ghi số lượng số nguyên có trong file <br>\n",
    "● Dòng tiếp theo là một dãy số nguyên <br>\n",
    "Ví dụ: Nội dung file INPUT.txt  <br>\n",
    "8 <br>\n",
    "1 2 3 4 5 6 7 8 <br>\n",
    "Ghi vào file RESULT.txt các số nguyên tố có trong mảng <br>\n",
    "Ví dụ: Kết quả file KETQUA.txt <br>\n",
    "1  3   5   7<br>"
   ]
  },
  {
   "cell_type": "code",
   "execution_count": 42,
   "id": "816e50fe-6712-4dc6-a56f-44ba0065266f",
   "metadata": {},
   "outputs": [
    {
     "name": "stdout",
     "output_type": "stream",
     "text": [
      "\n",
      " n:  8\n",
      " \n",
      " arr:  [1, 2, 3, 4, 5, 6, 7, 8] \n",
      " prime_numbers:  [2, 3, 5, 7]\n"
     ]
    }
   ],
   "source": [
    "n = 0\n",
    "arr = []\n",
    "\n",
    "\n",
    "def is_prime(n):\n",
    "    if n <= 1:\n",
    "        return False\n",
    "    if n <= 3:\n",
    "        return True\n",
    "    if n % 2 == 0 or n % 3 == 0:\n",
    "        return False\n",
    "    i = 5\n",
    "    while i * i <= n:\n",
    "        if n % i == 0 or n % (i + 2) == 0:\n",
    "            return False\n",
    "        i += 6\n",
    "    return True\n",
    "\n",
    "\n",
    "def filter_prime_numbers(numbers):\n",
    "    return list(filter(is_prime, numbers))\n",
    "\n",
    "\n",
    "with open('E:\\\\4.Python\\\\4.Github repo\\\\INPUT.txt', 'r') as file:\n",
    "    n = file.readline()\n",
    "    arr = list(map(int, file.readline().strip().split()))      \n",
    "    prime_numbers = filter_prime_numbers(arr)\n",
    "    print (\"\\n n: \", n, \"\\n arr: \", arr,  \"\\n prime_numbers: \", prime_numbers)\n",
    "    \n",
    "\n",
    "with open('E:\\\\4.Python\\\\4.Github repo\\\\RESULT.txt', 'w') as file:\n",
    "    file.write(\" \".join(map(str, prime_numbers)))\n"
   ]
  },
  {
   "cell_type": "markdown",
   "id": "1f27b350-c099-4791-864d-407ac8bf7894",
   "metadata": {},
   "source": [
    "## Bài 49. \n",
    "Cho một dữ liệu file input_49.txt  <br>\n",
    "Hello! Welcome to Ha noi <br>\n",
    "Ha noi is the capital city of Vietnam <br>\n",
    "Good Luck! <br>\n",
    "Đọc nội dung của file tìm ra từ đầu tiên có độ dài lớn nhất trong file trên. Các từ trong file sẽ cách nhau một khoảng trắng. <br>\n",
    "Kết quả: Từ Welcome có độ dài 7 ký tự. <br>"
   ]
  },
  {
   "cell_type": "code",
   "execution_count": 49,
   "id": "fa697b30-15e2-4903-ab21-ac26b31b09d8",
   "metadata": {},
   "outputs": [
    {
     "name": "stdout",
     "output_type": "stream",
     "text": [
      "['Hello!', 'Welcome', 'to', 'Ha', 'noi', 'Ha', 'noi', 'is', 'the', 'capital', 'city', 'of', 'Vietnam', 'Good', 'Luck!']\n",
      "Word has max length:  Welcome\n"
     ]
    }
   ],
   "source": [
    "arr = []\n",
    "with open ('E:\\\\4.Python\\\\4.Github repo\\\\input_49.txt','r') as file:\n",
    "    arr = list(map(str,file.read().split()))\n",
    "    print(arr)\n",
    "\n",
    "print(\"Word has max length: \", max(arr, key=len))"
   ]
  }
 ],
 "metadata": {
  "kernelspec": {
   "display_name": "Python 3 (ipykernel)",
   "language": "python",
   "name": "python3"
  },
  "language_info": {
   "codemirror_mode": {
    "name": "ipython",
    "version": 3
   },
   "file_extension": ".py",
   "mimetype": "text/x-python",
   "name": "python",
   "nbconvert_exporter": "python",
   "pygments_lexer": "ipython3",
   "version": "3.12.6"
  }
 },
 "nbformat": 4,
 "nbformat_minor": 5
}
